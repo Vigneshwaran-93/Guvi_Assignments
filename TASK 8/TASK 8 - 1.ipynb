{
 "cells": [
  {
   "cell_type": "code",
   "execution_count": 1,
   "id": "6e9c6c36",
   "metadata": {},
   "outputs": [],
   "source": [
    "import pandas as pd \n",
    "import matplotlib.pyplot as plt \n",
    "import seaborn as sns\n",
    "import numpy as np \n"
   ]
  },
  {
   "cell_type": "code",
   "execution_count": 2,
   "id": "e2657bea",
   "metadata": {},
   "outputs": [
    {
     "data": {
      "text/html": [
       "<div>\n",
       "<style scoped>\n",
       "    .dataframe tbody tr th:only-of-type {\n",
       "        vertical-align: middle;\n",
       "    }\n",
       "\n",
       "    .dataframe tbody tr th {\n",
       "        vertical-align: top;\n",
       "    }\n",
       "\n",
       "    .dataframe thead th {\n",
       "        text-align: right;\n",
       "    }\n",
       "</style>\n",
       "<table border=\"1\" class=\"dataframe\">\n",
       "  <thead>\n",
       "    <tr style=\"text-align: right;\">\n",
       "      <th></th>\n",
       "      <th>English words/sentences</th>\n",
       "    </tr>\n",
       "  </thead>\n",
       "  <tbody>\n",
       "    <tr>\n",
       "      <th>0</th>\n",
       "      <td>Hi.</td>\n",
       "    </tr>\n",
       "    <tr>\n",
       "      <th>1</th>\n",
       "      <td>Run!</td>\n",
       "    </tr>\n",
       "    <tr>\n",
       "      <th>2</th>\n",
       "      <td>Run!</td>\n",
       "    </tr>\n",
       "    <tr>\n",
       "      <th>3</th>\n",
       "      <td>Who?</td>\n",
       "    </tr>\n",
       "    <tr>\n",
       "      <th>4</th>\n",
       "      <td>Wow!</td>\n",
       "    </tr>\n",
       "  </tbody>\n",
       "</table>\n",
       "</div>"
      ],
      "text/plain": [
       "  English words/sentences\n",
       "0                     Hi.\n",
       "1                    Run!\n",
       "2                    Run!\n",
       "3                    Who?\n",
       "4                    Wow!"
      ]
     },
     "execution_count": 2,
     "metadata": {},
     "output_type": "execute_result"
    }
   ],
   "source": [
    "df=pd.read_csv(\"English.csv\")\n",
    "df.head()"
   ]
  },
  {
   "cell_type": "code",
   "execution_count": 3,
   "id": "8eea1fa2",
   "metadata": {},
   "outputs": [
    {
     "name": "stdout",
     "output_type": "stream",
     "text": [
      "(175621, 1)\n",
      "==========\n",
      "<class 'pandas.core.frame.DataFrame'>\n",
      "RangeIndex: 175621 entries, 0 to 175620\n",
      "Data columns (total 1 columns):\n",
      " #   Column                   Non-Null Count   Dtype \n",
      "---  ------                   --------------   ----- \n",
      " 0   English words/sentences  175621 non-null  object\n",
      "dtypes: object(1)\n",
      "memory usage: 1.3+ MB\n",
      "None\n",
      "==========\n",
      "English words/sentences    0\n",
      "dtype: int64\n",
      "==========\n",
      "123100\n"
     ]
    }
   ],
   "source": [
    "print(df.shape)\n",
    "print(\"=\"*10)\n",
    "print(df.info())\n",
    "print(\"=\"*10)\n",
    "print(df.isnull().sum())\n",
    "print(\"=\"*10)\n",
    "print(df[\"English words/sentences\"].nunique())"
   ]
  },
  {
   "cell_type": "code",
   "execution_count": 4,
   "id": "e77bfb13",
   "metadata": {},
   "outputs": [],
   "source": [
    "# The data has no Null values \n",
    "# The data is in series format\n",
    "# There are duplicates in the data.\n"
   ]
  },
  {
   "cell_type": "code",
   "execution_count": 5,
   "id": "22018775",
   "metadata": {},
   "outputs": [
    {
     "data": {
      "text/html": [
       "<div>\n",
       "<style scoped>\n",
       "    .dataframe tbody tr th:only-of-type {\n",
       "        vertical-align: middle;\n",
       "    }\n",
       "\n",
       "    .dataframe tbody tr th {\n",
       "        vertical-align: top;\n",
       "    }\n",
       "\n",
       "    .dataframe thead th {\n",
       "        text-align: right;\n",
       "    }\n",
       "</style>\n",
       "<table border=\"1\" class=\"dataframe\">\n",
       "  <thead>\n",
       "    <tr style=\"text-align: right;\">\n",
       "      <th></th>\n",
       "      <th>English words/sentences</th>\n",
       "    </tr>\n",
       "  </thead>\n",
       "  <tbody>\n",
       "    <tr>\n",
       "      <th>0</th>\n",
       "      <td>Hi.</td>\n",
       "    </tr>\n",
       "    <tr>\n",
       "      <th>1</th>\n",
       "      <td>Run!</td>\n",
       "    </tr>\n",
       "    <tr>\n",
       "      <th>3</th>\n",
       "      <td>Who?</td>\n",
       "    </tr>\n",
       "    <tr>\n",
       "      <th>4</th>\n",
       "      <td>Wow!</td>\n",
       "    </tr>\n",
       "    <tr>\n",
       "      <th>5</th>\n",
       "      <td>Fire!</td>\n",
       "    </tr>\n",
       "    <tr>\n",
       "      <th>...</th>\n",
       "      <td>...</td>\n",
       "    </tr>\n",
       "    <tr>\n",
       "      <th>175616</th>\n",
       "      <td>Top-down economics never works, said Obama. \"T...</td>\n",
       "    </tr>\n",
       "    <tr>\n",
       "      <th>175617</th>\n",
       "      <td>A carbon footprint is the amount of carbon dio...</td>\n",
       "    </tr>\n",
       "    <tr>\n",
       "      <th>175618</th>\n",
       "      <td>Death is something that we're often discourage...</td>\n",
       "    </tr>\n",
       "    <tr>\n",
       "      <th>175619</th>\n",
       "      <td>Since there are usually multiple websites on a...</td>\n",
       "    </tr>\n",
       "    <tr>\n",
       "      <th>175620</th>\n",
       "      <td>If someone who doesn't know your background sa...</td>\n",
       "    </tr>\n",
       "  </tbody>\n",
       "</table>\n",
       "<p>123100 rows × 1 columns</p>\n",
       "</div>"
      ],
      "text/plain": [
       "                                  English words/sentences\n",
       "0                                                     Hi.\n",
       "1                                                    Run!\n",
       "3                                                    Who?\n",
       "4                                                    Wow!\n",
       "5                                                   Fire!\n",
       "...                                                   ...\n",
       "175616  Top-down economics never works, said Obama. \"T...\n",
       "175617  A carbon footprint is the amount of carbon dio...\n",
       "175618  Death is something that we're often discourage...\n",
       "175619  Since there are usually multiple websites on a...\n",
       "175620  If someone who doesn't know your background sa...\n",
       "\n",
       "[123100 rows x 1 columns]"
      ]
     },
     "execution_count": 5,
     "metadata": {},
     "output_type": "execute_result"
    }
   ],
   "source": [
    "#Dropping duplicates \n",
    "df.drop_duplicates()"
   ]
  },
  {
   "cell_type": "code",
   "execution_count": 6,
   "id": "468dc374",
   "metadata": {},
   "outputs": [
    {
     "name": "stdout",
     "output_type": "stream",
     "text": [
      "¡Buenos días!\n"
     ]
    }
   ],
   "source": [
    "#Wrking with Translate lib\n",
    "\n",
    "from translate import Translator\n",
    "translator= Translator(to_lang=\"spanish\")\n",
    "translation = translator.translate(\"Good Morning!\")\n",
    "print(translation)"
   ]
  },
  {
   "cell_type": "code",
   "execution_count": 7,
   "id": "d770f936",
   "metadata": {},
   "outputs": [
    {
     "name": "stderr",
     "output_type": "stream",
     "text": [
      "C:\\Users\\HOME\\AppData\\Local\\Temp\\ipykernel_424\\2634777923.py:7: SettingWithCopyWarning: \n",
      "A value is trying to be set on a copy of a slice from a DataFrame\n",
      "\n",
      "See the caveats in the documentation: https://pandas.pydata.org/pandas-docs/stable/user_guide/indexing.html#returning-a-view-versus-a-copy\n",
      "  df[\"SPANISH\"].iloc[i]=j\n"
     ]
    }
   ],
   "source": [
    "translator= Translator(to_lang=\"spanish\")\n",
    "#translation = translator.translate(\"Guten Morgen\")\n",
    "df[\"SPANISH\"]=1\n",
    "for i in range(10): # As the program freeze while run for long time due to API timeout, I have run for small range only. \n",
    "    k=df[\"English words/sentences\"].iloc[i]\n",
    "    j=translator.translate(k)\n",
    "    df[\"SPANISH\"].iloc[i]=j"
   ]
  },
  {
   "cell_type": "code",
   "execution_count": 8,
   "id": "2f915047",
   "metadata": {},
   "outputs": [
    {
     "data": {
      "text/html": [
       "<div>\n",
       "<style scoped>\n",
       "    .dataframe tbody tr th:only-of-type {\n",
       "        vertical-align: middle;\n",
       "    }\n",
       "\n",
       "    .dataframe tbody tr th {\n",
       "        vertical-align: top;\n",
       "    }\n",
       "\n",
       "    .dataframe thead th {\n",
       "        text-align: right;\n",
       "    }\n",
       "</style>\n",
       "<table border=\"1\" class=\"dataframe\">\n",
       "  <thead>\n",
       "    <tr style=\"text-align: right;\">\n",
       "      <th></th>\n",
       "      <th>English words/sentences</th>\n",
       "      <th>SPANISH</th>\n",
       "    </tr>\n",
       "  </thead>\n",
       "  <tbody>\n",
       "    <tr>\n",
       "      <th>0</th>\n",
       "      <td>Hi.</td>\n",
       "      <td>hola</td>\n",
       "    </tr>\n",
       "    <tr>\n",
       "      <th>1</th>\n",
       "      <td>Run!</td>\n",
       "      <td>¡Corre!</td>\n",
       "    </tr>\n",
       "    <tr>\n",
       "      <th>2</th>\n",
       "      <td>Run!</td>\n",
       "      <td>¡Corre!</td>\n",
       "    </tr>\n",
       "    <tr>\n",
       "      <th>3</th>\n",
       "      <td>Who?</td>\n",
       "      <td>¿Quién?</td>\n",
       "    </tr>\n",
       "    <tr>\n",
       "      <th>4</th>\n",
       "      <td>Wow!</td>\n",
       "      <td>¡Qué dices!</td>\n",
       "    </tr>\n",
       "  </tbody>\n",
       "</table>\n",
       "</div>"
      ],
      "text/plain": [
       "  English words/sentences      SPANISH\n",
       "0                     Hi.         hola\n",
       "1                    Run!      ¡Corre!\n",
       "2                    Run!      ¡Corre!\n",
       "3                    Who?      ¿Quién?\n",
       "4                    Wow!  ¡Qué dices!"
      ]
     },
     "execution_count": 8,
     "metadata": {},
     "output_type": "execute_result"
    }
   ],
   "source": [
    "df.head()"
   ]
  },
  {
   "cell_type": "code",
   "execution_count": 9,
   "id": "b976d682",
   "metadata": {},
   "outputs": [
    {
     "name": "stderr",
     "output_type": "stream",
     "text": [
      "C:\\Users\\HOME\\AppData\\Local\\Temp\\ipykernel_424\\3695180098.py:7: SettingWithCopyWarning: \n",
      "A value is trying to be set on a copy of a slice from a DataFrame\n",
      "\n",
      "See the caveats in the documentation: https://pandas.pydata.org/pandas-docs/stable/user_guide/indexing.html#returning-a-view-versus-a-copy\n",
      "  df[\"French\"].iloc[i]=j\n"
     ]
    }
   ],
   "source": [
    "translator= Translator(to_lang=\"French\")\n",
    "#translation = translator.translate(\"Guten Morgen\")\n",
    "df[\"French\"]=1\n",
    "for i in range(10): # As the program freeze while run for long time due to API timeout, I have run for small range only. \n",
    "    k=df[\"English words/sentences\"].iloc[i]\n",
    "    j=translator.translate(k)\n",
    "    df[\"French\"].iloc[i]=j"
   ]
  },
  {
   "cell_type": "code",
   "execution_count": 10,
   "id": "9a542d68",
   "metadata": {},
   "outputs": [
    {
     "data": {
      "text/html": [
       "<div>\n",
       "<style scoped>\n",
       "    .dataframe tbody tr th:only-of-type {\n",
       "        vertical-align: middle;\n",
       "    }\n",
       "\n",
       "    .dataframe tbody tr th {\n",
       "        vertical-align: top;\n",
       "    }\n",
       "\n",
       "    .dataframe thead th {\n",
       "        text-align: right;\n",
       "    }\n",
       "</style>\n",
       "<table border=\"1\" class=\"dataframe\">\n",
       "  <thead>\n",
       "    <tr style=\"text-align: right;\">\n",
       "      <th></th>\n",
       "      <th>English words/sentences</th>\n",
       "      <th>SPANISH</th>\n",
       "      <th>French</th>\n",
       "    </tr>\n",
       "  </thead>\n",
       "  <tbody>\n",
       "    <tr>\n",
       "      <th>0</th>\n",
       "      <td>Hi.</td>\n",
       "      <td>hola</td>\n",
       "      <td>Salut.</td>\n",
       "    </tr>\n",
       "    <tr>\n",
       "      <th>1</th>\n",
       "      <td>Run!</td>\n",
       "      <td>¡Corre!</td>\n",
       "      <td>Cours !</td>\n",
       "    </tr>\n",
       "    <tr>\n",
       "      <th>2</th>\n",
       "      <td>Run!</td>\n",
       "      <td>¡Corre!</td>\n",
       "      <td>Cours !</td>\n",
       "    </tr>\n",
       "    <tr>\n",
       "      <th>3</th>\n",
       "      <td>Who?</td>\n",
       "      <td>¿Quién?</td>\n",
       "      <td>Qui?</td>\n",
       "    </tr>\n",
       "    <tr>\n",
       "      <th>4</th>\n",
       "      <td>Wow!</td>\n",
       "      <td>¡Qué dices!</td>\n",
       "      <td>Waouh !</td>\n",
       "    </tr>\n",
       "  </tbody>\n",
       "</table>\n",
       "</div>"
      ],
      "text/plain": [
       "  English words/sentences      SPANISH   French\n",
       "0                     Hi.         hola   Salut.\n",
       "1                    Run!      ¡Corre!  Cours !\n",
       "2                    Run!      ¡Corre!  Cours !\n",
       "3                    Who?      ¿Quién?     Qui?\n",
       "4                    Wow!  ¡Qué dices!  Waouh !"
      ]
     },
     "execution_count": 10,
     "metadata": {},
     "output_type": "execute_result"
    }
   ],
   "source": [
    "df.head()"
   ]
  },
  {
   "cell_type": "code",
   "execution_count": 11,
   "id": "4339af33",
   "metadata": {},
   "outputs": [
    {
     "name": "stderr",
     "output_type": "stream",
     "text": [
      "C:\\Users\\HOME\\AppData\\Local\\Temp\\ipykernel_424\\2523572945.py:7: SettingWithCopyWarning: \n",
      "A value is trying to be set on a copy of a slice from a DataFrame\n",
      "\n",
      "See the caveats in the documentation: https://pandas.pydata.org/pandas-docs/stable/user_guide/indexing.html#returning-a-view-versus-a-copy\n",
      "  df[\"German\"].iloc[i]=j\n"
     ]
    }
   ],
   "source": [
    "translator= Translator(to_lang=\"German\")\n",
    "#translation = translator.translate(\"Guten Morgen\")\n",
    "df[\"German\"]=1\n",
    "for i in range(10): # As the program freeze while run for long time due to API timeout, I have run for small range only. \n",
    "    k=df[\"English words/sentences\"].iloc[i]\n",
    "    j=translator.translate(k)\n",
    "    df[\"German\"].iloc[i]=j"
   ]
  },
  {
   "cell_type": "code",
   "execution_count": 12,
   "id": "e4ad52bd",
   "metadata": {},
   "outputs": [
    {
     "data": {
      "text/html": [
       "<div>\n",
       "<style scoped>\n",
       "    .dataframe tbody tr th:only-of-type {\n",
       "        vertical-align: middle;\n",
       "    }\n",
       "\n",
       "    .dataframe tbody tr th {\n",
       "        vertical-align: top;\n",
       "    }\n",
       "\n",
       "    .dataframe thead th {\n",
       "        text-align: right;\n",
       "    }\n",
       "</style>\n",
       "<table border=\"1\" class=\"dataframe\">\n",
       "  <thead>\n",
       "    <tr style=\"text-align: right;\">\n",
       "      <th></th>\n",
       "      <th>English words/sentences</th>\n",
       "      <th>SPANISH</th>\n",
       "      <th>French</th>\n",
       "      <th>German</th>\n",
       "    </tr>\n",
       "  </thead>\n",
       "  <tbody>\n",
       "    <tr>\n",
       "      <th>0</th>\n",
       "      <td>Hi.</td>\n",
       "      <td>hola</td>\n",
       "      <td>Salut.</td>\n",
       "      <td>Hallo,</td>\n",
       "    </tr>\n",
       "    <tr>\n",
       "      <th>1</th>\n",
       "      <td>Run!</td>\n",
       "      <td>¡Corre!</td>\n",
       "      <td>Cours !</td>\n",
       "      <td>Lauf!</td>\n",
       "    </tr>\n",
       "    <tr>\n",
       "      <th>2</th>\n",
       "      <td>Run!</td>\n",
       "      <td>¡Corre!</td>\n",
       "      <td>Cours !</td>\n",
       "      <td>Lauf!</td>\n",
       "    </tr>\n",
       "    <tr>\n",
       "      <th>3</th>\n",
       "      <td>Who?</td>\n",
       "      <td>¿Quién?</td>\n",
       "      <td>Qui?</td>\n",
       "      <td>Welche?</td>\n",
       "    </tr>\n",
       "    <tr>\n",
       "      <th>4</th>\n",
       "      <td>Wow!</td>\n",
       "      <td>¡Qué dices!</td>\n",
       "      <td>Waouh !</td>\n",
       "      <td>Wow!</td>\n",
       "    </tr>\n",
       "  </tbody>\n",
       "</table>\n",
       "</div>"
      ],
      "text/plain": [
       "  English words/sentences      SPANISH   French   German\n",
       "0                     Hi.         hola   Salut.   Hallo,\n",
       "1                    Run!      ¡Corre!  Cours !    Lauf!\n",
       "2                    Run!      ¡Corre!  Cours !    Lauf!\n",
       "3                    Who?      ¿Quién?     Qui?  Welche?\n",
       "4                    Wow!  ¡Qué dices!  Waouh !     Wow!"
      ]
     },
     "execution_count": 12,
     "metadata": {},
     "output_type": "execute_result"
    }
   ],
   "source": [
    "df.head()"
   ]
  },
  {
   "cell_type": "markdown",
   "id": "b5cea0c1",
   "metadata": {},
   "source": [
    "### Conclusion \n",
    "The original dataset containing the English words and sentences has been converted to respective languages using the Translator Library.\n"
   ]
  },
  {
   "cell_type": "code",
   "execution_count": null,
   "id": "ec4056aa",
   "metadata": {},
   "outputs": [],
   "source": []
  }
 ],
 "metadata": {
  "kernelspec": {
   "display_name": "Python 3 (ipykernel)",
   "language": "python",
   "name": "python3"
  },
  "language_info": {
   "codemirror_mode": {
    "name": "ipython",
    "version": 3
   },
   "file_extension": ".py",
   "mimetype": "text/x-python",
   "name": "python",
   "nbconvert_exporter": "python",
   "pygments_lexer": "ipython3",
   "version": "3.10.5"
  }
 },
 "nbformat": 4,
 "nbformat_minor": 5
}

{
 "cells": [
  {
   "cell_type": "code",
   "execution_count": 1,
   "metadata": {},
   "outputs": [],
   "source": [
    "import pandas as pd\n",
    "import matplotlib.pyplot as plt\n",
    "import numpy as np\n",
    "from sklearn import linear_model"
   ]
  },
  {
   "cell_type": "markdown",
   "metadata": {},
   "source": [
    "# Assignment5\n"
   ]
  },
  {
   "cell_type": "markdown",
   "metadata": {},
   "source": [
    "## Ground Cricket Chirps\n",
    "\n",
    "In _The Song of Insects_ (1948) by George W. Pierce, Pierce mechanically measured the frequency (the number of wing vibrations per second) of chirps (or pulses of sound) made by a striped ground cricket, at various ground temperatures.  Since crickets are ectotherms (cold-blooded), the rate of their physiological processes and their overall metabolism are influenced by temperature.  Consequently, there is reason to believe that temperature would have a profound effect on aspects of their behavior, such as chirp frequency.\n",
    "\n",
    "In general, it was found that crickets did not sing at temperatures colder than 60º F. or warmer than 100º F."
   ]
  },
  {
   "cell_type": "markdown",
   "metadata": {},
   "source": [
    "### Tasks\n",
    "\n",
    "1. Find the linear regression equation for this data.\n",
    "2. Chart the original data and the equation on the chart.\n",
    "3. Find the equation's $R^2$ score (use the `.score` method) to determine whether the\n",
    "equation is a good fit for this data. (0.8 and greater is considered a strong correlation.)\n",
    "4. Extrapolate data:  If the ground temperature reached 95, then at what approximate rate would you expect the crickets to be chirping?\n",
    "5. Interpolate data:  With a listening device, you discovered that on a particular morning the crickets were chirping at a rate of 18 chirps per second.  What was the approximate ground temperature that morning? "
   ]
  },
  {
   "cell_type": "code",
   "execution_count": 2,
   "metadata": {},
   "outputs": [],
   "source": [
    "ground_cricket_data = {\"Chirps/Second\": [20.0, 16.0, 19.8, 18.4, 17.1, 15.5, 14.7,\n",
    "                                         15.7, 15.4, 16.3, 15.0, 17.2, 16.0, 17.0,\n",
    "                                         14.4],\n",
    "                       \"Ground Temperature\": [88.6, 71.6, 93.3, 84.3, 80.6, 75.2, 69.7,\n",
    "                                              71.6, 69.4, 83.3, 79.6, 82.6, 80.6, 83.5,\n",
    "                                              76.3]}\n",
    "df = pd.DataFrame(ground_cricket_data)"
   ]
  },
  {
   "cell_type": "code",
   "execution_count": 3,
   "metadata": {},
   "outputs": [
    {
     "data": {
      "text/html": [
       "<div>\n",
       "<style scoped>\n",
       "    .dataframe tbody tr th:only-of-type {\n",
       "        vertical-align: middle;\n",
       "    }\n",
       "\n",
       "    .dataframe tbody tr th {\n",
       "        vertical-align: top;\n",
       "    }\n",
       "\n",
       "    .dataframe thead th {\n",
       "        text-align: right;\n",
       "    }\n",
       "</style>\n",
       "<table border=\"1\" class=\"dataframe\">\n",
       "  <thead>\n",
       "    <tr style=\"text-align: right;\">\n",
       "      <th></th>\n",
       "      <th>Chirps/Second</th>\n",
       "      <th>Ground Temperature</th>\n",
       "    </tr>\n",
       "  </thead>\n",
       "  <tbody>\n",
       "    <tr>\n",
       "      <th>0</th>\n",
       "      <td>20.0</td>\n",
       "      <td>88.6</td>\n",
       "    </tr>\n",
       "    <tr>\n",
       "      <th>1</th>\n",
       "      <td>16.0</td>\n",
       "      <td>71.6</td>\n",
       "    </tr>\n",
       "    <tr>\n",
       "      <th>2</th>\n",
       "      <td>19.8</td>\n",
       "      <td>93.3</td>\n",
       "    </tr>\n",
       "    <tr>\n",
       "      <th>3</th>\n",
       "      <td>18.4</td>\n",
       "      <td>84.3</td>\n",
       "    </tr>\n",
       "    <tr>\n",
       "      <th>4</th>\n",
       "      <td>17.1</td>\n",
       "      <td>80.6</td>\n",
       "    </tr>\n",
       "  </tbody>\n",
       "</table>\n",
       "</div>"
      ],
      "text/plain": [
       "   Chirps/Second  Ground Temperature\n",
       "0           20.0                88.6\n",
       "1           16.0                71.6\n",
       "2           19.8                93.3\n",
       "3           18.4                84.3\n",
       "4           17.1                80.6"
      ]
     },
     "execution_count": 3,
     "metadata": {},
     "output_type": "execute_result"
    }
   ],
   "source": [
    "df.head()\n",
    "\n"
   ]
  },
  {
   "cell_type": "markdown",
   "metadata": {},
   "source": [
    "### EDA"
   ]
  },
  {
   "cell_type": "code",
   "execution_count": 4,
   "metadata": {
    "scrolled": true
   },
   "outputs": [
    {
     "name": "stdout",
     "output_type": "stream",
     "text": [
      "<class 'pandas.core.frame.DataFrame'>\n",
      "RangeIndex: 15 entries, 0 to 14\n",
      "Data columns (total 2 columns):\n",
      " #   Column              Non-Null Count  Dtype  \n",
      "---  ------              --------------  -----  \n",
      " 0   Chirps/Second       15 non-null     float64\n",
      " 1   Ground Temperature  15 non-null     float64\n",
      "dtypes: float64(2)\n",
      "memory usage: 368.0 bytes\n",
      "None\n",
      "       Chirps/Second  Ground Temperature\n",
      "count      15.000000           15.000000\n",
      "mean       16.566667           79.346667\n",
      "std         1.712837            7.020467\n",
      "min        14.400000           69.400000\n",
      "25%        15.450000           73.400000\n",
      "50%        16.000000           80.600000\n",
      "75%        17.150000           83.400000\n",
      "max        20.000000           93.300000\n",
      "Chirps/Second         0\n",
      "Ground Temperature    0\n",
      "dtype: int64\n"
     ]
    }
   ],
   "source": [
    "print(df.info())\n",
    "print(df.describe())\n",
    "print(df.isnull().sum())"
   ]
  },
  {
   "cell_type": "code",
   "execution_count": 5,
   "metadata": {},
   "outputs": [
    {
     "data": {
      "image/png": "[encoded data removed]",
      "text/plain": [
       "<Figure size 432x288 with 1 Axes>"
      ]
     },
     "metadata": {
      "needs_background": "light"
     },
     "output_type": "display_data"
    }
   ],
   "source": [
    "x = df[\"Chirps/Second\"]\n",
    "plt.hist(x, bins=10)\n",
    "plt.show()"
   ]
  },
  {
   "cell_type": "code",
   "execution_count": 6,
   "metadata": {},
   "outputs": [
    {
     "name": "stdout",
     "output_type": "stream",
     "text": [
      "AxesSubplot(0.125,0.125;0.775x0.755)\n"
     ]
    },
    {
     "data": {
      "image/png": "[encoded data removed]",
      "text/plain": [
       "<Figure size 432x288 with 1 Axes>"
      ]
     },
     "metadata": {
      "needs_background": "light"
     },
     "output_type": "display_data"
    }
   ],
   "source": [
    "print(df[\"Ground Temperature\"].plot.box(grid='True'))"
   ]
  },
  {
   "cell_type": "code",
   "execution_count": 7,
   "metadata": {},
   "outputs": [
    {
     "data": {
      "text/plain": [
       "(15, 2)"
      ]
     },
     "execution_count": 7,
     "metadata": {},
     "output_type": "execute_result"
    }
   ],
   "source": [
    "df.shape"
   ]
  },
  {
   "cell_type": "code",
   "execution_count": 8,
   "metadata": {},
   "outputs": [
    {
     "name": "stdout",
     "output_type": "stream",
     "text": [
      "    Chirps/Second  Ground Temperature\n",
      "0            20.0                88.6\n",
      "2            19.8                93.3\n",
      "3            18.4                84.3\n",
      "11           17.2                82.6\n",
      "    Chirps/Second  Ground Temperature\n",
      "6            14.7                69.7\n",
      "8            15.4                69.4\n",
      "10           15.0                79.6\n",
      "14           14.4                76.3\n"
     ]
    }
   ],
   "source": [
    "#Checkign for outliers  \n",
    "q3, q1 = np.percentile(df[\"Chirps/Second\"], [75 ,25])\n",
    "print(df[df[\"Chirps/Second\"] > q3])\n",
    "print(df[df[\"Chirps/Second\"] < q1])\n"
   ]
  },
  {
   "cell_type": "markdown",
   "metadata": {},
   "source": [
    "### Model Building \n"
   ]
  },
  {
   "cell_type": "code",
   "execution_count": 9,
   "metadata": {},
   "outputs": [
    {
     "name": "stdout",
     "output_type": "stream",
     "text": [
      "Model Intercept:[0.45931465] and Coefficients:[[0.20299973]]\n",
      "The linear equation for the data is y=[0.45931465] *x +[[0.20299973]]\n"
     ]
    }
   ],
   "source": [
    "#Creating a linear regression model\n",
    "from sklearn.linear_model import LinearRegression\n",
    "from sklearn.metrics import r2_score\n",
    "X = df['Ground Temperature'].values.reshape(-1,1)\n",
    "Y = df['Chirps/Second'].values.reshape(-1,1)\n",
    "model = LinearRegression()\n",
    "model.fit(X,Y)\n",
    "print(\"Model Intercept:{} and Coefficients:{}\".format(model.intercept_, model.coef_))\n",
    "str1=\"The linear equation for the data is y={} *x +{}\".format(model.intercept_, model.coef_)\n",
    "print(str1)"
   ]
  },
  {
   "cell_type": "code",
   "execution_count": 10,
   "metadata": {},
   "outputs": [
    {
     "data": {
      "image/png": "[encoded data removed]",
      "text/plain": [
       "<Figure size 432x288 with 1 Axes>"
      ]
     },
     "metadata": {
      "needs_background": "light"
     },
     "output_type": "display_data"
    }
   ],
   "source": [
    "# Q2) Plotting the original data and the regression line\n",
    "plt.scatter(X,Y)\n",
    "plt.plot(X, model.predict(X), color=\"red\", linewidth=3)\n",
    "plt.xlabel(\"Ground Temperature\")\n",
    "plt.ylabel(\"Chirps/Second\")\n",
    "plt.grid()\n",
    "plt.show()"
   ]
  },
  {
   "cell_type": "code",
   "execution_count": 11,
   "metadata": {},
   "outputs": [
    {
     "data": {
      "text/plain": [
       "0.6922946529147004"
      ]
     },
     "execution_count": 11,
     "metadata": {},
     "output_type": "execute_result"
    }
   ],
   "source": [
    "# Q3) Generating R2 Score \n",
    "model.score(X,Y)"
   ]
  },
  {
   "cell_type": "code",
   "execution_count": 12,
   "metadata": {},
   "outputs": [
    {
     "data": {
      "text/plain": [
       "array([[19.74428913]])"
      ]
     },
     "execution_count": 12,
     "metadata": {},
     "output_type": "execute_result"
    }
   ],
   "source": [
    "# Q4) Predict  crickets to be chirping at ground temperature of 95?\n",
    "model.predict([[95]]) "
   ]
  },
  {
   "cell_type": "code",
   "execution_count": 13,
   "metadata": {},
   "outputs": [
    {
     "data": {
      "text/plain": [
       "86.40743192121488"
      ]
     },
     "execution_count": 13,
     "metadata": {},
     "output_type": "execute_result"
    }
   ],
   "source": [
    "# Q5) Interpolate data:  With a listening device, you discovered that on a particular morning the crickets were chirping at a rate of 18 chirps per second.  What was the approximate ground temperature that morning? \n",
    "temp = (18 - 0.45931465)/0.20299973 \n",
    "temp"
   ]
  },
  {
   "cell_type": "markdown",
   "metadata": {},
   "source": [
    "## Conclusion \n",
    "With the available data we can conclude that there is some positive linear relation between the ground temperatures and chirp frequency, but the R2 score is just 0.69 thus which is not sufficient to establish a strong correlation\n"
   ]
  },
  {
   "cell_type": "code",
   "execution_count": null,
   "metadata": {},
   "outputs": [],
   "source": []
  },
  {
   "cell_type": "markdown",
   "metadata": {},
   "source": [
    "## ==============================================================="
   ]
  },
  {
   "cell_type": "markdown",
   "metadata": {},
   "source": [
    "# Assignment6"
   ]
  },
  {
   "cell_type": "markdown",
   "metadata": {},
   "source": [
    "## Brain vs. Body Weight\n",
    "\n",
    "In the file `brain_body.txt`, the average brain and body weight for a number of mammal species are recorded. Load this data into a Pandas data frame.\n",
    "\n",
    "### Tasks\n",
    "\n",
    "1. Find the linear regression equation for this data for brain weight to body weight.\n",
    "2. Chart the original data and the equation on the chart.\n",
    "3. Find the equation's $R^2$ score (use the `.score` method) to determine whether the\n",
    "equation is a good fit for this data. (0.8 and greater is considered a strong correlation.)"
   ]
  },
  {
   "cell_type": "code",
   "execution_count": 14,
   "metadata": {},
   "outputs": [
    {
     "name": "stdout",
     "output_type": "stream",
     "text": [
      "     Brain   Body\n",
      "0    3.385   44.5\n",
      "1    0.480   15.5\n",
      "2    1.350    8.1\n",
      "3  465.000  423.0\n",
      "4   36.330  119.5\n"
     ]
    }
   ],
   "source": [
    "df = pd.read_fwf(\"brain_body.txt\")\n",
    "print(df.head())"
   ]
  },
  {
   "cell_type": "code",
   "execution_count": 15,
   "metadata": {},
   "outputs": [
    {
     "name": "stdout",
     "output_type": "stream",
     "text": [
      "(62, 2)\n",
      "<class 'pandas.core.frame.DataFrame'>\n",
      "RangeIndex: 62 entries, 0 to 61\n",
      "Data columns (total 2 columns):\n",
      " #   Column  Non-Null Count  Dtype  \n",
      "---  ------  --------------  -----  \n",
      " 0   Brain   62 non-null     float64\n",
      " 1   Body    62 non-null     float64\n",
      "dtypes: float64(2)\n",
      "memory usage: 1.1 KB\n",
      "None\n",
      "             Brain         Body\n",
      "count    62.000000    62.000000\n",
      "mean    198.789984   283.134194\n",
      "std     899.158011   930.278942\n",
      "min       0.005000     0.140000\n",
      "25%       0.600000     4.250000\n",
      "50%       3.342500    17.250000\n",
      "75%      48.202500   166.000000\n",
      "max    6654.000000  5712.000000\n",
      "Brain    0\n",
      "Body     0\n",
      "dtype: int64\n"
     ]
    }
   ],
   "source": [
    "print(df.shape)\n",
    "print(df.info())\n",
    "print(df.describe())\n",
    "print(df.isnull().sum())"
   ]
  },
  {
   "cell_type": "markdown",
   "metadata": {},
   "source": [
    "### EDA"
   ]
  },
  {
   "cell_type": "code",
   "execution_count": 16,
   "metadata": {},
   "outputs": [
    {
     "data": {
      "image/png": "[encoded data removed]",
      "text/plain": [
       "<Figure size 432x288 with 1 Axes>"
      ]
     },
     "metadata": {
      "needs_background": "light"
     },
     "output_type": "display_data"
    }
   ],
   "source": [
    "x = df[\"Brain\"]\n",
    "plt.hist(x, bins=10)\n",
    "plt.show()"
   ]
  },
  {
   "cell_type": "code",
   "execution_count": 17,
   "metadata": {
    "scrolled": true
   },
   "outputs": [
    {
     "name": "stdout",
     "output_type": "stream",
     "text": [
      "AxesSubplot(0.125,0.125;0.775x0.755)\n"
     ]
    },
    {
     "data": {
      "image/png": "[encoded data removed]",
      "text/plain": [
       "<Figure size 432x288 with 1 Axes>"
      ]
     },
     "metadata": {
      "needs_background": "light"
     },
     "output_type": "display_data"
    }
   ],
   "source": [
    "print(df[\"Brain\"].plot.box(grid='True'))"
   ]
  },
  {
   "cell_type": "code",
   "execution_count": 18,
   "metadata": {
    "scrolled": true
   },
   "outputs": [
    {
     "name": "stdout",
     "output_type": "stream",
     "text": [
      "IQR = 47.6025\n",
      "Brain    0\n",
      "Body     0\n",
      "dtype: int64\n",
      "=====\n",
      "Brain    10\n",
      "Body     10\n",
      "dtype: int64\n"
     ]
    }
   ],
   "source": [
    "Q3 = np.quantile(df[\"Brain\"], 0.75)\n",
    "Q1 = np.quantile(df[\"Brain\"], 0.25)\n",
    "IQR = Q3 - Q1\n",
    "print(\"IQR =\", IQR)\n",
    "lower_range = Q1 - 1.5 * IQR\n",
    "upper_range = Q3 + 1.5 * IQR\n",
    "print(df[df[\"Brain\"] < lower_range].count())\n",
    "print(\"=\"*5)\n",
    "print(df[df[\"Brain\"] > upper_range].count())"
   ]
  },
  {
   "cell_type": "code",
   "execution_count": 19,
   "metadata": {},
   "outputs": [
    {
     "name": "stdout",
     "output_type": "stream",
     "text": [
      "Model Intercept:[91.00439621] and Coefficients:[[0.96649637]]\n",
      "The linear equation for the data is y=[91.00439621] *x +[[0.96649637]]\n"
     ]
    }
   ],
   "source": [
    "#Creating a linear regression model with outliers \n",
    "from sklearn.linear_model import LinearRegression\n",
    "from sklearn.metrics import r2_score\n",
    "X = df['Brain'].values.reshape(-1,1)\n",
    "Y = df['Body'].values.reshape(-1,1)\n",
    "model = LinearRegression()\n",
    "model.fit(X,Y)\n",
    "print(\"Model Intercept:{} and Coefficients:{}\".format(model.intercept_, model.coef_))\n",
    "str2=\"The linear equation for the data is y={} *x +{}\".format(model.intercept_, model.coef_)\n",
    "print(str2)"
   ]
  },
  {
   "cell_type": "code",
   "execution_count": 20,
   "metadata": {},
   "outputs": [
    {
     "data": {
      "text/plain": [
       "0.8726620843043331"
      ]
     },
     "execution_count": 20,
     "metadata": {},
     "output_type": "execute_result"
    }
   ],
   "source": [
    "# Q3) Generating R2 Score \n",
    "model.score(X,Y)"
   ]
  },
  {
   "cell_type": "code",
   "execution_count": 21,
   "metadata": {},
   "outputs": [
    {
     "data": {
      "image/png": "[encoded data removed]",
      "text/plain": [
       "<Figure size 432x288 with 1 Axes>"
      ]
     },
     "metadata": {
      "needs_background": "light"
     },
     "output_type": "display_data"
    }
   ],
   "source": [
    "plt.scatter(X,Y)\n",
    "plt.plot(X, model.predict(X), color=\"red\", linewidth=2)\n",
    "plt.xlabel(\"Brain weight\")\n",
    "plt.ylabel(\"Body weight\")\n",
    "plt.show()"
   ]
  },
  {
   "cell_type": "markdown",
   "metadata": {},
   "source": [
    "## Conclusion\n",
    "\n",
    "With the R2 score of 0.87 shows a strong correlation between Brain Weight and Body Weight. "
   ]
  },
  {
   "cell_type": "code",
   "execution_count": null,
   "metadata": {},
   "outputs": [],
   "source": []
  },
  {
   "cell_type": "markdown",
   "metadata": {},
   "source": [
    "# Assignment7"
   ]
  },
  {
   "cell_type": "markdown",
   "metadata": {},
   "source": [
    "## Salary Discrimination\n",
    "\n",
    "The file `salary.txt` contains data for 52 tenure-track professors at a small Midwestern college. This data was used in legal proceedings in the 1980s about discrimination against women in salary.\n",
    "\n",
    "The data in the file, by column:\n",
    "\n",
    "1. Sex. 1 for female, 0 for male.\n",
    "2. Rank. 1 for assistant professor, 2 for associate professor, 3 for full professor.\n",
    "3. Year. Number of years in current rank.\n",
    "4. Degree. Highest degree. 1 for doctorate, 0 for master's.\n",
    "5. YSdeg. Years since highest degree was earned.\n",
    "6. Salary. Salary/year in dollars.\n",
    "\n",
    "### Tasks\n",
    "\n",
    "1. Find the linear regression equation for this data using columns 1-5 to column 6.\n",
    "2. Find the selection of columns with the best $R^2$ score.\n",
    "3. Report whether sex is a factor in salary."
   ]
  },
  {
   "cell_type": "code",
   "execution_count": 22,
   "metadata": {},
   "outputs": [],
   "source": [
    "import numpy as np\n",
    "import pandas as pd\n",
    "import matplotlib.pyplot as plt\n",
    "import seaborn as sns\n",
    "\n",
    "df = pd.read_fwf(\"salary.txt\", header=None, \n",
    "                 names=[\"Sex\", \"Rank\", \"Year\", \"Degree\", \"YSdeg\", \"Salary\"])"
   ]
  },
  {
   "cell_type": "code",
   "execution_count": 23,
   "metadata": {},
   "outputs": [
    {
     "data": {
      "text/html": [
       "<div>\n",
       "<style scoped>\n",
       "    .dataframe tbody tr th:only-of-type {\n",
       "        vertical-align: middle;\n",
       "    }\n",
       "\n",
       "    .dataframe tbody tr th {\n",
       "        vertical-align: top;\n",
       "    }\n",
       "\n",
       "    .dataframe thead th {\n",
       "        text-align: right;\n",
       "    }\n",
       "</style>\n",
       "<table border=\"1\" class=\"dataframe\">\n",
       "  <thead>\n",
       "    <tr style=\"text-align: right;\">\n",
       "      <th></th>\n",
       "      <th>Sex</th>\n",
       "      <th>Rank</th>\n",
       "      <th>Year</th>\n",
       "      <th>Degree</th>\n",
       "      <th>YSdeg</th>\n",
       "      <th>Salary</th>\n",
       "    </tr>\n",
       "  </thead>\n",
       "  <tbody>\n",
       "    <tr>\n",
       "      <th>0</th>\n",
       "      <td>0</td>\n",
       "      <td>3</td>\n",
       "      <td>25</td>\n",
       "      <td>1</td>\n",
       "      <td>35</td>\n",
       "      <td>36350</td>\n",
       "    </tr>\n",
       "    <tr>\n",
       "      <th>1</th>\n",
       "      <td>0</td>\n",
       "      <td>3</td>\n",
       "      <td>13</td>\n",
       "      <td>1</td>\n",
       "      <td>22</td>\n",
       "      <td>35350</td>\n",
       "    </tr>\n",
       "    <tr>\n",
       "      <th>2</th>\n",
       "      <td>0</td>\n",
       "      <td>3</td>\n",
       "      <td>10</td>\n",
       "      <td>1</td>\n",
       "      <td>23</td>\n",
       "      <td>28200</td>\n",
       "    </tr>\n",
       "    <tr>\n",
       "      <th>3</th>\n",
       "      <td>1</td>\n",
       "      <td>3</td>\n",
       "      <td>7</td>\n",
       "      <td>1</td>\n",
       "      <td>27</td>\n",
       "      <td>26775</td>\n",
       "    </tr>\n",
       "    <tr>\n",
       "      <th>4</th>\n",
       "      <td>0</td>\n",
       "      <td>3</td>\n",
       "      <td>19</td>\n",
       "      <td>0</td>\n",
       "      <td>30</td>\n",
       "      <td>33696</td>\n",
       "    </tr>\n",
       "  </tbody>\n",
       "</table>\n",
       "</div>"
      ],
      "text/plain": [
       "   Sex  Rank  Year  Degree  YSdeg  Salary\n",
       "0    0     3    25       1     35   36350\n",
       "1    0     3    13       1     22   35350\n",
       "2    0     3    10       1     23   28200\n",
       "3    1     3     7       1     27   26775\n",
       "4    0     3    19       0     30   33696"
      ]
     },
     "execution_count": 23,
     "metadata": {},
     "output_type": "execute_result"
    }
   ],
   "source": [
    "df.head()"
   ]
  },
  {
   "cell_type": "code",
   "execution_count": 24,
   "metadata": {},
   "outputs": [
    {
     "name": "stdout",
     "output_type": "stream",
     "text": [
      "(52, 6)\n",
      "<class 'pandas.core.frame.DataFrame'>\n",
      "RangeIndex: 52 entries, 0 to 51\n",
      "Data columns (total 6 columns):\n",
      " #   Column  Non-Null Count  Dtype\n",
      "---  ------  --------------  -----\n",
      " 0   Sex     52 non-null     int64\n",
      " 1   Rank    52 non-null     int64\n",
      " 2   Year    52 non-null     int64\n",
      " 3   Degree  52 non-null     int64\n",
      " 4   YSdeg   52 non-null     int64\n",
      " 5   Salary  52 non-null     int64\n",
      "dtypes: int64(6)\n",
      "memory usage: 2.6 KB\n",
      "None\n",
      "             Sex       Rank       Year     Degree      YSdeg        Salary\n",
      "count  52.000000  52.000000  52.000000  52.000000  52.000000     52.000000\n",
      "mean    0.269231   2.038462   7.480769   0.653846  16.115385  23797.653846\n",
      "std     0.447888   0.862316   5.507536   0.480384  10.222340   5917.289154\n",
      "min     0.000000   1.000000   0.000000   0.000000   1.000000  15000.000000\n",
      "25%     0.000000   1.000000   3.000000   0.000000   6.750000  18246.750000\n",
      "50%     0.000000   2.000000   7.000000   1.000000  15.500000  23719.000000\n",
      "75%     1.000000   3.000000  11.000000   1.000000  23.250000  27258.500000\n",
      "max     1.000000   3.000000  25.000000   1.000000  35.000000  38045.000000\n",
      "Sex       0\n",
      "Rank      0\n",
      "Year      0\n",
      "Degree    0\n",
      "YSdeg     0\n",
      "Salary    0\n",
      "dtype: int64\n"
     ]
    }
   ],
   "source": [
    "print(df.shape)\n",
    "print(df.info())\n",
    "print(df.describe())\n",
    "print(df.isnull().sum())"
   ]
  },
  {
   "cell_type": "code",
   "execution_count": 25,
   "metadata": {},
   "outputs": [],
   "source": [
    "X = ['Sex','Rank','Year','Degree','YSdeg']\n",
    "Y = 'Salary'"
   ]
  },
  {
   "cell_type": "code",
   "execution_count": 26,
   "metadata": {},
   "outputs": [
    {
     "name": "stdout",
     "output_type": "stream",
     "text": [
      "Sex\n",
      "Rank\n",
      "Year\n",
      "Degree\n",
      "YSdeg\n",
      "Salary\n"
     ]
    }
   ],
   "source": [
    "for i in df.columns:\n",
    "    print(i)"
   ]
  },
  {
   "cell_type": "code",
   "execution_count": 27,
   "metadata": {},
   "outputs": [
    {
     "name": "stdout",
     "output_type": "stream",
     "text": [
      "Model Intercept:11410.146547255616 and Coefficients:[ 1241.7924996   5586.18144952   482.85976783 -1331.64406341\n",
      "  -128.79057354]\n",
      "The linear equation for the data is Salary=Sex * 1241.7924996014265 + Rank * 5586.181449521438 + Year * 482.85976782882153 + Degree * -1331.6440634059095 + YSdeg * -128.79057354486258 +  11410.146547255616\n"
     ]
    }
   ],
   "source": [
    "# Model Builing\n",
    "from sklearn.linear_model import LinearRegression\n",
    "from sklearn.metrics import r2_score\n",
    "X = df.iloc[:,:5]\n",
    "Y = df.iloc[:,5]\n",
    "model = LinearRegression()\n",
    "model.fit(X,Y)\n",
    "print(\"Model Intercept:{} and Coefficients:{}\".format(model.intercept_, model.coef_))\n",
    "\n",
    "str2=\"The linear equation for the data is Salary=\"\n",
    "j=0\n",
    "for i in df.iloc[:,:5]:\n",
    "    str2+=i+\" * \"+ str((model.coef_[j]))+\" + \"\n",
    "    j+=1\n",
    "str2+=\" \"+ str(model.intercept_)\n",
    "print(str2)\n",
    "                    "
   ]
  },
  {
   "cell_type": "code",
   "execution_count": 28,
   "metadata": {},
   "outputs": [
    {
     "data": {
      "text/plain": [
       "0.8547180674410969"
      ]
     },
     "execution_count": 28,
     "metadata": {},
     "output_type": "execute_result"
    }
   ],
   "source": [
    "# Q3) Generating R2 Score \n",
    "model.score(X,Y)"
   ]
  },
  {
   "cell_type": "code",
   "execution_count": 29,
   "metadata": {},
   "outputs": [
    {
     "data": {
      "text/plain": [
       "{('Sex',): 0.06389892583288004,\n",
       " ('Rank',): 0.7525360539274631,\n",
       " ('Year',): 0.49093702676921624,\n",
       " ('Degree',): 0.004861680984748484,\n",
       " ('YSdeg',): 0.45542813458360276,\n",
       " ('Sex', 'Rank'): 0.7554917749443394,\n",
       " ('Sex', 'Year'): 0.4911360941886388,\n",
       " ('Sex', 'Degree'): 0.06643739842018881,\n",
       " ('Sex', 'YSdeg'): 0.4930479271966782,\n",
       " ('Rank', 'Year'): 0.8436480933264597,\n",
       " ('Rank', 'Degree'): 0.7557961688386643,\n",
       " ('Rank', 'YSdeg'): 0.7623948189698249,\n",
       " ('Year', 'Degree'): 0.4919014149016441,\n",
       " ('Year', 'YSdeg'): 0.5782019226431887,\n",
       " ('Degree', 'YSdeg'): 0.5409662288237875,\n",
       " ('Sex', 'Rank', 'Year'): 0.8454319861987166,\n",
       " ('Sex', 'Rank', 'Degree'): 0.7583144768153612,\n",
       " ('Sex', 'Rank', 'YSdeg'): 0.7666122610227071,\n",
       " ('Sex', 'Year', 'Degree'): 0.49207944757472966,\n",
       " ('Sex', 'Year', 'YSdeg'): 0.5808063918180406,\n",
       " ('Sex', 'Degree', 'YSdeg'): 0.5832708257660315,\n",
       " ('Rank', 'Year', 'Degree'): 0.8437395200874137,\n",
       " ('Rank', 'Year', 'YSdeg'): 0.8456725764485596,\n",
       " ('Rank', 'Degree', 'YSdeg'): 0.7625149185326454,\n",
       " ('Year', 'Degree', 'YSdeg'): 0.6236261611533503,\n",
       " ('Sex', 'Rank', 'Year', 'Degree'): 0.845547641297936,\n",
       " ('Sex', 'Rank', 'Year', 'YSdeg'): 0.8490366192262851,\n",
       " ('Sex', 'Rank', 'Degree', 'YSdeg'): 0.7671813414350668,\n",
       " ('Sex', 'Year', 'Degree', 'YSdeg'): 0.6311597502907434,\n",
       " ('Rank', 'Year', 'Degree', 'YSdeg'): 0.8485077204335425,\n",
       " ('Sex', 'Rank', 'Year', 'Degree', 'YSdeg'): 0.8547180674410969}"
      ]
     },
     "execution_count": 29,
     "metadata": {},
     "output_type": "execute_result"
    }
   ],
   "source": [
    "from itertools import combinations\n",
    "cols = [x for x in df.columns if x != 'Salary']\n",
    "Y = df['Salary']\n",
    "fit_d = {}\n",
    "for i in range(1, len(cols)+1):\n",
    "    for comb in combinations(cols, i):\n",
    "        X = df[list(comb)]\n",
    "        # X = sm.add_constant(X)\n",
    "        model.fit(X,Y)\n",
    "        fit_d[comb] = model.score(X,Y)\n",
    "\n",
    "key_max = max(fit_d, key=fit_d.get)\n",
    "\n",
    "fit_d"
   ]
  },
  {
   "cell_type": "code",
   "execution_count": 30,
   "metadata": {},
   "outputs": [
    {
     "data": {
      "text/plain": [
       "{('Degree',): 0.004861680984748484,\n",
       " ('Sex',): 0.06389892583288004,\n",
       " ('Sex', 'Degree'): 0.06643739842018881,\n",
       " ('YSdeg',): 0.45542813458360276,\n",
       " ('Year',): 0.49093702676921624,\n",
       " ('Sex', 'Year'): 0.4911360941886388,\n",
       " ('Year', 'Degree'): 0.4919014149016441,\n",
       " ('Sex', 'Year', 'Degree'): 0.49207944757472966,\n",
       " ('Sex', 'YSdeg'): 0.4930479271966782,\n",
       " ('Degree', 'YSdeg'): 0.5409662288237875,\n",
       " ('Year', 'YSdeg'): 0.5782019226431887,\n",
       " ('Sex', 'Year', 'YSdeg'): 0.5808063918180406,\n",
       " ('Sex', 'Degree', 'YSdeg'): 0.5832708257660315,\n",
       " ('Year', 'Degree', 'YSdeg'): 0.6236261611533503,\n",
       " ('Sex', 'Year', 'Degree', 'YSdeg'): 0.6311597502907434,\n",
       " ('Rank',): 0.7525360539274631,\n",
       " ('Sex', 'Rank'): 0.7554917749443394,\n",
       " ('Rank', 'Degree'): 0.7557961688386643,\n",
       " ('Sex', 'Rank', 'Degree'): 0.7583144768153612,\n",
       " ('Rank', 'YSdeg'): 0.7623948189698249,\n",
       " ('Rank', 'Degree', 'YSdeg'): 0.7625149185326454,\n",
       " ('Sex', 'Rank', 'YSdeg'): 0.7666122610227071,\n",
       " ('Sex', 'Rank', 'Degree', 'YSdeg'): 0.7671813414350668,\n",
       " ('Rank', 'Year'): 0.8436480933264597,\n",
       " ('Rank', 'Year', 'Degree'): 0.8437395200874137,\n",
       " ('Sex', 'Rank', 'Year'): 0.8454319861987166,\n",
       " ('Sex', 'Rank', 'Year', 'Degree'): 0.845547641297936,\n",
       " ('Rank', 'Year', 'YSdeg'): 0.8456725764485596,\n",
       " ('Rank', 'Year', 'Degree', 'YSdeg'): 0.8485077204335425,\n",
       " ('Sex', 'Rank', 'Year', 'YSdeg'): 0.8490366192262851,\n",
       " ('Sex', 'Rank', 'Year', 'Degree', 'YSdeg'): 0.8547180674410969}"
      ]
     },
     "execution_count": 30,
     "metadata": {},
     "output_type": "execute_result"
    }
   ],
   "source": [
    " dict(sorted(fit_d.items(), key=lambda item: item[1]))"
   ]
  },
  {
   "cell_type": "markdown",
   "metadata": {},
   "source": [
    "### Conclusion \n",
    "From the above output, we can conclude taht the model with all the features gives the best R2 score, thus making the best feature combination. \n"
   ]
  },
  {
   "cell_type": "code",
   "execution_count": 35,
   "metadata": {},
   "outputs": [
    {
     "data": {
      "text/plain": [
       "{('Rank',): 0.7525360539274631,\n",
       " ('Year',): 0.49093702676921624,\n",
       " ('Degree',): 0.004861680984748484,\n",
       " ('YSdeg',): 0.45542813458360276,\n",
       " ('Rank', 'Year'): 0.8436480933264597,\n",
       " ('Rank', 'Degree'): 0.7557961688386643,\n",
       " ('Rank', 'YSdeg'): 0.7623948189698249,\n",
       " ('Year', 'Degree'): 0.4919014149016441,\n",
       " ('Year', 'YSdeg'): 0.5782019226431887,\n",
       " ('Degree', 'YSdeg'): 0.5409662288237875,\n",
       " ('Rank', 'Year', 'Degree'): 0.8437395200874137,\n",
       " ('Rank', 'Year', 'YSdeg'): 0.8456725764485596,\n",
       " ('Rank', 'Degree', 'YSdeg'): 0.7625149185326454,\n",
       " ('Year', 'Degree', 'YSdeg'): 0.6236261611533503,\n",
       " ('Rank', 'Year', 'Degree', 'YSdeg'): 0.8485077204335425}"
      ]
     },
     "execution_count": 35,
     "metadata": {},
     "output_type": "execute_result"
    }
   ],
   "source": [
    "# Q3) Report whether sex is a factor in salary.\n",
    "\n",
    "from itertools import combinations\n",
    "cols = [x for x in df.columns if x not in ['Salary','Sex']]\n",
    "Y = df['Salary']\n",
    "fit_d = {}\n",
    "for i in range(1, len(cols)+1):\n",
    "    for comb in combinations(cols, i):\n",
    "        X = df[list(comb)]\n",
    "        # X = sm.add_constant(X)\n",
    "        model.fit(X,Y)\n",
    "        fit_d[comb] = model.score(X,Y)\n",
    "\n",
    "key_max = max(fit_d, key=fit_d.get)\n",
    "\n",
    "fit_d"
   ]
  },
  {
   "cell_type": "code",
   "execution_count": 36,
   "metadata": {
    "scrolled": true
   },
   "outputs": [
    {
     "data": {
      "text/plain": [
       "{('Degree',): 0.004861680984748484,\n",
       " ('YSdeg',): 0.45542813458360276,\n",
       " ('Year',): 0.49093702676921624,\n",
       " ('Year', 'Degree'): 0.4919014149016441,\n",
       " ('Degree', 'YSdeg'): 0.5409662288237875,\n",
       " ('Year', 'YSdeg'): 0.5782019226431887,\n",
       " ('Year', 'Degree', 'YSdeg'): 0.6236261611533503,\n",
       " ('Rank',): 0.7525360539274631,\n",
       " ('Rank', 'Degree'): 0.7557961688386643,\n",
       " ('Rank', 'YSdeg'): 0.7623948189698249,\n",
       " ('Rank', 'Degree', 'YSdeg'): 0.7625149185326454,\n",
       " ('Rank', 'Year'): 0.8436480933264597,\n",
       " ('Rank', 'Year', 'Degree'): 0.8437395200874137,\n",
       " ('Rank', 'Year', 'YSdeg'): 0.8456725764485596,\n",
       " ('Rank', 'Year', 'Degree', 'YSdeg'): 0.8485077204335425}"
      ]
     },
     "execution_count": 36,
     "metadata": {},
     "output_type": "execute_result"
    }
   ],
   "source": [
    " dict(sorted(fit_d.items(), key=lambda item: item[1]))"
   ]
  },
  {
   "cell_type": "code",
   "execution_count": 37,
   "metadata": {},
   "outputs": [
    {
     "data": {
      "text/plain": [
       "0    38\n",
       "1    14\n",
       "Name: Sex, dtype: int64"
      ]
     },
     "execution_count": 37,
     "metadata": {},
     "output_type": "execute_result"
    }
   ],
   "source": [
    "df['Sex'].value_counts()"
   ]
  },
  {
   "cell_type": "code",
   "execution_count": 42,
   "metadata": {},
   "outputs": [],
   "source": [
    "df2=df.copy()\n",
    "#remove one gender and run model \n",
    "df2.drop(df.loc[df['Sex'] == 1].index, axis=0, inplace=True)\n"
   ]
  },
  {
   "cell_type": "code",
   "execution_count": 45,
   "metadata": {},
   "outputs": [
    {
     "data": {
      "text/plain": [
       "{('Sex',): 0.0,\n",
       " ('Sex', 'Degree'): 0.0009041545486969671,\n",
       " ('Degree',): 0.0009041545486970781,\n",
       " ('YSdeg',): 0.49277923690619496,\n",
       " ('Sex', 'YSdeg'): 0.4927792369061951,\n",
       " ('Year',): 0.5508554212960585,\n",
       " ('Sex', 'Year'): 0.5508554212960585,\n",
       " ('Year', 'Degree'): 0.553887985193434,\n",
       " ('Sex', 'Year', 'Degree'): 0.553887985193434,\n",
       " ('Degree', 'YSdeg'): 0.5689941254644684,\n",
       " ('Sex', 'Degree', 'YSdeg'): 0.5689941254644685,\n",
       " ('Sex', 'Year', 'YSdeg'): 0.5934417896615585,\n",
       " ('Year', 'YSdeg'): 0.5934417896615587,\n",
       " ('Year', 'Degree', 'YSdeg'): 0.6261692165941779,\n",
       " ('Sex', 'Year', 'Degree', 'YSdeg'): 0.626169216594178,\n",
       " ('Rank',): 0.7672694278831863,\n",
       " ('Sex', 'Rank'): 0.7672694278831863,\n",
       " ('Rank', 'Degree'): 0.7776019823137628,\n",
       " ('Sex', 'Rank', 'Degree'): 0.7776019823137628,\n",
       " ('Rank', 'YSdeg'): 0.7940910338170332,\n",
       " ('Sex', 'Rank', 'YSdeg'): 0.7940910338170333,\n",
       " ('Rank', 'Degree', 'YSdeg'): 0.794095409892877,\n",
       " ('Sex', 'Rank', 'Degree', 'YSdeg'): 0.794095409892877,\n",
       " ('Rank', 'Year'): 0.8707442492188793,\n",
       " ('Sex', 'Rank', 'Year'): 0.8707442492188793,\n",
       " ('Rank', 'Year', 'Degree'): 0.8725026374331019,\n",
       " ('Sex', 'Rank', 'Year', 'Degree'): 0.872502637433102,\n",
       " ('Rank', 'Year', 'YSdeg'): 0.874389041252435,\n",
       " ('Sex', 'Rank', 'Year', 'YSdeg'): 0.874389041252435,\n",
       " ('Rank', 'Year', 'Degree', 'YSdeg'): 0.8860180447017182,\n",
       " ('Sex', 'Rank', 'Year', 'Degree', 'YSdeg'): 0.8860180447017182}"
      ]
     },
     "execution_count": 45,
     "metadata": {},
     "output_type": "execute_result"
    }
   ],
   "source": [
    "from itertools import combinations\n",
    "cols = [x for x in df2.columns if x not in ['Salary']]\n",
    "Y = df2['Salary']\n",
    "fit_d = {}\n",
    "for i in range(1, len(cols)+1):\n",
    "    for comb in combinations(cols, i):\n",
    "        X = df2[list(comb)]\n",
    "        # X = sm.add_constant(X)\n",
    "        model.fit(X,Y)\n",
    "        fit_d[comb] = model.score(X,Y)\n",
    "\n",
    "key_max = max(fit_d, key=fit_d.get)\n",
    "dict(sorted(fit_d.items(), key=lambda item: item[1]))"
   ]
  },
  {
   "cell_type": "code",
   "execution_count": 48,
   "metadata": {},
   "outputs": [],
   "source": [
    "# Remove other gender \n",
    "df3=df.copy()\n",
    "df3.drop(df.loc[df['Sex'] == 0].index, axis=0, inplace=True)\n"
   ]
  },
  {
   "cell_type": "code",
   "execution_count": 49,
   "metadata": {},
   "outputs": [
    {
     "data": {
      "text/plain": [
       "{('Sex',): 0.0,\n",
       " ('Degree',): 0.012617370022798946,\n",
       " ('Sex', 'Degree'): 0.012617370022798946,\n",
       " ('Year',): 0.23724511682395943,\n",
       " ('Sex', 'Year'): 0.23724511682395943,\n",
       " ('Year', 'Degree'): 0.2377539808918404,\n",
       " ('Sex', 'Year', 'Degree'): 0.2377539808918404,\n",
       " ('YSdeg',): 0.40336500685974985,\n",
       " ('Sex', 'YSdeg'): 0.40336500685974985,\n",
       " ('Year', 'YSdeg'): 0.46284851555561135,\n",
       " ('Sex', 'Year', 'YSdeg'): 0.46284851555561146,\n",
       " ('Degree', 'YSdeg'): 0.5801084156554466,\n",
       " ('Sex', 'Degree', 'YSdeg'): 0.5801084156554468,\n",
       " ('Year', 'Degree', 'YSdeg'): 0.615027067555158,\n",
       " ('Sex', 'Year', 'Degree', 'YSdeg'): 0.6150270675551581,\n",
       " ('Rank',): 0.6741444145659368,\n",
       " ('Sex', 'Rank'): 0.6741444145659368,\n",
       " ('Sex', 'Rank', 'YSdeg'): 0.6741452723195022,\n",
       " ('Rank', 'YSdeg'): 0.6741452723195023,\n",
       " ('Rank', 'Degree'): 0.6774359986594283,\n",
       " ('Sex', 'Rank', 'Degree'): 0.6774359986594283,\n",
       " ('Rank', 'Degree', 'YSdeg'): 0.6845453799339638,\n",
       " ('Sex', 'Rank', 'Degree', 'YSdeg'): 0.6845453799339638,\n",
       " ('Rank', 'Year'): 0.7646042114954017,\n",
       " ('Sex', 'Rank', 'Year'): 0.7646042114954017,\n",
       " ('Rank', 'Year', 'Degree'): 0.7749206110702103,\n",
       " ('Sex', 'Rank', 'Year', 'Degree'): 0.7749206110702104,\n",
       " ('Sex', 'Rank', 'Year', 'YSdeg'): 0.7796774804617175,\n",
       " ('Rank', 'Year', 'YSdeg'): 0.7796774804617177,\n",
       " ('Sex', 'Rank', 'Year', 'Degree', 'YSdeg'): 0.7796833967423318,\n",
       " ('Rank', 'Year', 'Degree', 'YSdeg'): 0.7796833967423319}"
      ]
     },
     "execution_count": 49,
     "metadata": {},
     "output_type": "execute_result"
    }
   ],
   "source": [
    "from itertools import combinations\n",
    "cols = [x for x in df3.columns if x not in ['Salary']]\n",
    "Y = df3['Salary']\n",
    "fit_d = {}\n",
    "for i in range(1, len(cols)+1):\n",
    "    for comb in combinations(cols, i):\n",
    "        X = df3[list(comb)]\n",
    "        # X = sm.add_constant(X)\n",
    "        model.fit(X,Y)\n",
    "        fit_d[comb] = model.score(X,Y)\n",
    "\n",
    "key_max = max(fit_d, key=fit_d.get)\n",
    "dict(sorted(fit_d.items(), key=lambda item: item[1]))"
   ]
  },
  {
   "cell_type": "markdown",
   "metadata": {},
   "source": [
    "## Conclusion\n",
    "From the above models it is clear that the maximum values of R2 score is not changing very much with the change in values of Sex Column, thus it can be concluded that Sex does not play a factor in deciding the Salary.\n"
   ]
  },
  {
   "cell_type": "code",
   "execution_count": null,
   "metadata": {},
   "outputs": [],
   "source": []
  }
 ],
 "metadata": {
  "kernelspec": {
   "display_name": "Python 3 (ipykernel)",
   "language": "python",
   "name": "python3"
  },
  "language_info": {
   "codemirror_mode": {
    "name": "ipython",
    "version": 3
   },
   "file_extension": ".py",
   "mimetype": "text/x-python",
   "name": "python",
   "nbconvert_exporter": "python",
   "pygments_lexer": "ipython3",
   "version": "3.10.5"
  }
 },
 "nbformat": 4,
 "nbformat_minor": 1
}

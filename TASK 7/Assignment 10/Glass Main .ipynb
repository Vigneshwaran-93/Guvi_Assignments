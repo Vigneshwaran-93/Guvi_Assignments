{
 "cells": [
  {
   "cell_type": "code",
   "execution_count": 1,
   "id": "23b1ac1b",
   "metadata": {},
   "outputs": [],
   "source": [
    "#Getting all the necessary Libraries\n",
    "import seaborn as sns\n",
    "import pandas as pd\n",
    "import matplotlib.pyplot as plt\n",
    "\n",
    "\n",
    "from sklearn.neighbors import KNeighborsClassifier\n",
    "from sklearn.metrics import accuracy_score,classification_report\n",
    "\n"
   ]
  },
  {
   "cell_type": "code",
   "execution_count": 2,
   "id": "dcdced4c",
   "metadata": {},
   "outputs": [
    {
     "name": "stdout",
     "output_type": "stream",
     "text": [
      "(196, 10) (18, 10)\n"
     ]
    }
   ],
   "source": [
    "#reading Data set \n",
    "df_train = pd.read_table('trainKNN.txt',delimiter=',',header=None, index_col=0,names=['RI','Na','Mg','Al','Si','K','Ca','Ba','Fe','GlassType'])\n",
    "df_test = pd.read_table('testKNN.txt',delimiter=',',header=None, index_col=0,names=['RI','Na','Mg','Al','Si','K','Ca','Ba','Fe','GlassType'])\n",
    "\n",
    "print(df_train.shape, df_test.shape)    "
   ]
  },
  {
   "cell_type": "code",
   "execution_count": 3,
   "id": "289298c6",
   "metadata": {},
   "outputs": [
    {
     "data": {
      "text/html": [
       "<div>\n",
       "<style scoped>\n",
       "    .dataframe tbody tr th:only-of-type {\n",
       "        vertical-align: middle;\n",
       "    }\n",
       "\n",
       "    .dataframe tbody tr th {\n",
       "        vertical-align: top;\n",
       "    }\n",
       "\n",
       "    .dataframe thead th {\n",
       "        text-align: right;\n",
       "    }\n",
       "</style>\n",
       "<table border=\"1\" class=\"dataframe\">\n",
       "  <thead>\n",
       "    <tr style=\"text-align: right;\">\n",
       "      <th></th>\n",
       "      <th>RI</th>\n",
       "      <th>Na</th>\n",
       "      <th>Mg</th>\n",
       "      <th>Al</th>\n",
       "      <th>Si</th>\n",
       "      <th>K</th>\n",
       "      <th>Ca</th>\n",
       "      <th>Ba</th>\n",
       "      <th>Fe</th>\n",
       "      <th>GlassType</th>\n",
       "    </tr>\n",
       "  </thead>\n",
       "  <tbody>\n",
       "    <tr>\n",
       "      <th>1</th>\n",
       "      <td>1.52101</td>\n",
       "      <td>13.64</td>\n",
       "      <td>4.49</td>\n",
       "      <td>1.10</td>\n",
       "      <td>71.78</td>\n",
       "      <td>0.06</td>\n",
       "      <td>8.75</td>\n",
       "      <td>0.0</td>\n",
       "      <td>0.0</td>\n",
       "      <td>1</td>\n",
       "    </tr>\n",
       "    <tr>\n",
       "      <th>2</th>\n",
       "      <td>1.51761</td>\n",
       "      <td>13.89</td>\n",
       "      <td>3.60</td>\n",
       "      <td>1.36</td>\n",
       "      <td>72.73</td>\n",
       "      <td>0.48</td>\n",
       "      <td>7.83</td>\n",
       "      <td>0.0</td>\n",
       "      <td>0.0</td>\n",
       "      <td>1</td>\n",
       "    </tr>\n",
       "    <tr>\n",
       "      <th>3</th>\n",
       "      <td>1.51618</td>\n",
       "      <td>13.53</td>\n",
       "      <td>3.55</td>\n",
       "      <td>1.54</td>\n",
       "      <td>72.99</td>\n",
       "      <td>0.39</td>\n",
       "      <td>7.78</td>\n",
       "      <td>0.0</td>\n",
       "      <td>0.0</td>\n",
       "      <td>1</td>\n",
       "    </tr>\n",
       "    <tr>\n",
       "      <th>4</th>\n",
       "      <td>1.51766</td>\n",
       "      <td>13.21</td>\n",
       "      <td>3.69</td>\n",
       "      <td>1.29</td>\n",
       "      <td>72.61</td>\n",
       "      <td>0.57</td>\n",
       "      <td>8.22</td>\n",
       "      <td>0.0</td>\n",
       "      <td>0.0</td>\n",
       "      <td>1</td>\n",
       "    </tr>\n",
       "    <tr>\n",
       "      <th>5</th>\n",
       "      <td>1.51742</td>\n",
       "      <td>13.27</td>\n",
       "      <td>3.62</td>\n",
       "      <td>1.24</td>\n",
       "      <td>73.08</td>\n",
       "      <td>0.55</td>\n",
       "      <td>8.07</td>\n",
       "      <td>0.0</td>\n",
       "      <td>0.0</td>\n",
       "      <td>1</td>\n",
       "    </tr>\n",
       "  </tbody>\n",
       "</table>\n",
       "</div>"
      ],
      "text/plain": [
       "        RI     Na    Mg    Al     Si     K    Ca   Ba   Fe  GlassType\n",
       "1  1.52101  13.64  4.49  1.10  71.78  0.06  8.75  0.0  0.0          1\n",
       "2  1.51761  13.89  3.60  1.36  72.73  0.48  7.83  0.0  0.0          1\n",
       "3  1.51618  13.53  3.55  1.54  72.99  0.39  7.78  0.0  0.0          1\n",
       "4  1.51766  13.21  3.69  1.29  72.61  0.57  8.22  0.0  0.0          1\n",
       "5  1.51742  13.27  3.62  1.24  73.08  0.55  8.07  0.0  0.0          1"
      ]
     },
     "execution_count": 3,
     "metadata": {},
     "output_type": "execute_result"
    }
   ],
   "source": [
    "df_train.head()"
   ]
  },
  {
   "cell_type": "code",
   "execution_count": 4,
   "id": "3554af03",
   "metadata": {},
   "outputs": [
    {
     "data": {
      "text/html": [
       "<div>\n",
       "<style scoped>\n",
       "    .dataframe tbody tr th:only-of-type {\n",
       "        vertical-align: middle;\n",
       "    }\n",
       "\n",
       "    .dataframe tbody tr th {\n",
       "        vertical-align: top;\n",
       "    }\n",
       "\n",
       "    .dataframe thead th {\n",
       "        text-align: right;\n",
       "    }\n",
       "</style>\n",
       "<table border=\"1\" class=\"dataframe\">\n",
       "  <thead>\n",
       "    <tr style=\"text-align: right;\">\n",
       "      <th></th>\n",
       "      <th>RI</th>\n",
       "      <th>Na</th>\n",
       "      <th>Mg</th>\n",
       "      <th>Al</th>\n",
       "      <th>Si</th>\n",
       "      <th>K</th>\n",
       "      <th>Ca</th>\n",
       "      <th>Ba</th>\n",
       "      <th>Fe</th>\n",
       "      <th>GlassType</th>\n",
       "    </tr>\n",
       "  </thead>\n",
       "  <tbody>\n",
       "    <tr>\n",
       "      <th>68</th>\n",
       "      <td>1.52152</td>\n",
       "      <td>13.05</td>\n",
       "      <td>3.65</td>\n",
       "      <td>0.87</td>\n",
       "      <td>72.32</td>\n",
       "      <td>0.19</td>\n",
       "      <td>9.85</td>\n",
       "      <td>0.0</td>\n",
       "      <td>0.17</td>\n",
       "      <td>1</td>\n",
       "    </tr>\n",
       "    <tr>\n",
       "      <th>69</th>\n",
       "      <td>1.52152</td>\n",
       "      <td>13.12</td>\n",
       "      <td>3.58</td>\n",
       "      <td>0.90</td>\n",
       "      <td>72.20</td>\n",
       "      <td>0.23</td>\n",
       "      <td>9.82</td>\n",
       "      <td>0.0</td>\n",
       "      <td>0.16</td>\n",
       "      <td>1</td>\n",
       "    </tr>\n",
       "    <tr>\n",
       "      <th>70</th>\n",
       "      <td>1.52300</td>\n",
       "      <td>13.31</td>\n",
       "      <td>3.58</td>\n",
       "      <td>0.82</td>\n",
       "      <td>71.99</td>\n",
       "      <td>0.12</td>\n",
       "      <td>10.17</td>\n",
       "      <td>0.0</td>\n",
       "      <td>0.03</td>\n",
       "      <td>1</td>\n",
       "    </tr>\n",
       "    <tr>\n",
       "      <th>144</th>\n",
       "      <td>1.51709</td>\n",
       "      <td>13.00</td>\n",
       "      <td>3.47</td>\n",
       "      <td>1.79</td>\n",
       "      <td>72.72</td>\n",
       "      <td>0.66</td>\n",
       "      <td>8.18</td>\n",
       "      <td>0.0</td>\n",
       "      <td>0.00</td>\n",
       "      <td>2</td>\n",
       "    </tr>\n",
       "    <tr>\n",
       "      <th>145</th>\n",
       "      <td>1.51660</td>\n",
       "      <td>12.99</td>\n",
       "      <td>3.18</td>\n",
       "      <td>1.23</td>\n",
       "      <td>72.97</td>\n",
       "      <td>0.58</td>\n",
       "      <td>8.81</td>\n",
       "      <td>0.0</td>\n",
       "      <td>0.24</td>\n",
       "      <td>2</td>\n",
       "    </tr>\n",
       "  </tbody>\n",
       "</table>\n",
       "</div>"
      ],
      "text/plain": [
       "          RI     Na    Mg    Al     Si     K     Ca   Ba    Fe  GlassType\n",
       "68   1.52152  13.05  3.65  0.87  72.32  0.19   9.85  0.0  0.17          1\n",
       "69   1.52152  13.12  3.58  0.90  72.20  0.23   9.82  0.0  0.16          1\n",
       "70   1.52300  13.31  3.58  0.82  71.99  0.12  10.17  0.0  0.03          1\n",
       "144  1.51709  13.00  3.47  1.79  72.72  0.66   8.18  0.0  0.00          2\n",
       "145  1.51660  12.99  3.18  1.23  72.97  0.58   8.81  0.0  0.24          2"
      ]
     },
     "execution_count": 4,
     "metadata": {},
     "output_type": "execute_result"
    }
   ],
   "source": [
    "df_test.head()"
   ]
  },
  {
   "cell_type": "code",
   "execution_count": 6,
   "id": "89b4474e",
   "metadata": {},
   "outputs": [
    {
     "name": "stdout",
     "output_type": "stream",
     "text": [
      "<class 'pandas.core.frame.DataFrame'>\n",
      "Int64Index: 196 entries, 1 to 211\n",
      "Data columns (total 10 columns):\n",
      " #   Column     Non-Null Count  Dtype  \n",
      "---  ------     --------------  -----  \n",
      " 0   RI         196 non-null    float64\n",
      " 1   Na         196 non-null    float64\n",
      " 2   Mg         196 non-null    float64\n",
      " 3   Al         196 non-null    float64\n",
      " 4   Si         196 non-null    float64\n",
      " 5   K          196 non-null    float64\n",
      " 6   Ca         196 non-null    float64\n",
      " 7   Ba         196 non-null    float64\n",
      " 8   Fe         196 non-null    float64\n",
      " 9   GlassType  196 non-null    int64  \n",
      "dtypes: float64(9), int64(1)\n",
      "memory usage: 16.8 KB\n",
      "None\n",
      "<class 'pandas.core.frame.DataFrame'>\n",
      "Int64Index: 18 entries, 68 to 214\n",
      "Data columns (total 10 columns):\n",
      " #   Column     Non-Null Count  Dtype  \n",
      "---  ------     --------------  -----  \n",
      " 0   RI         18 non-null     float64\n",
      " 1   Na         18 non-null     float64\n",
      " 2   Mg         18 non-null     float64\n",
      " 3   Al         18 non-null     float64\n",
      " 4   Si         18 non-null     float64\n",
      " 5   K          18 non-null     float64\n",
      " 6   Ca         18 non-null     float64\n",
      " 7   Ba         18 non-null     float64\n",
      " 8   Fe         18 non-null     float64\n",
      " 9   GlassType  18 non-null     int64  \n",
      "dtypes: float64(9), int64(1)\n",
      "memory usage: 1.5 KB\n",
      "None\n"
     ]
    }
   ],
   "source": [
    "print(df_train.info())\n",
    "print(df_test.info())"
   ]
  },
  {
   "cell_type": "markdown",
   "id": "c3a2ec81",
   "metadata": {},
   "source": [
    "### There are no null values and the Data types are correct "
   ]
  },
  {
   "cell_type": "code",
   "execution_count": 8,
   "id": "bead2e87",
   "metadata": {},
   "outputs": [],
   "source": [
    "#Splitting the data\n",
    "x_train = df_train.iloc[:,[0,1,2,3,4,5,6,7,8]]\n",
    "y_train = df_train.iloc[:,9]\n",
    "x_test = df_test.iloc[:,[0,1,2,3,4,5,6,7,8]]\n",
    "y_test = df_test.iloc[:,9]"
   ]
  },
  {
   "cell_type": "code",
   "execution_count": 9,
   "id": "f9ff1aeb",
   "metadata": {},
   "outputs": [
    {
     "name": "stdout",
     "output_type": "stream",
     "text": [
      "[0.6111111111111112, 0.4444444444444444, 0.6111111111111112, 0.5, 0.5555555555555556, 0.5555555555555556, 0.5555555555555556, 0.6111111111111112, 0.5555555555555556, 0.5]\n"
     ]
    }
   ],
   "source": [
    "#Scaling and Model Building \n",
    "\n",
    "from sklearn.preprocessing import StandardScaler\n",
    "func = StandardScaler()\n",
    "func.fit(x_train)\n",
    "x_train_std = func.transform(x_train)\n",
    "x_test_std = func.transform(x_test)\n",
    "\n",
    "from scipy.spatial import distance\n",
    "num_neighbors = [1,2,3,4,5,6,7,8,9,10]\n",
    "acc_results = []\n",
    "for num in num_neighbors:\n",
    "    #Equclidean Distance \n",
    "    model = KNeighborsClassifier(n_neighbors=num, metric=distance.sqeuclidean).fit(x_train_std, y_train)\n",
    "    acc_results.append(accuracy_score(y_test, model.predict(x_test_std)))\n",
    "     \n",
    "print(acc_results)"
   ]
  },
  {
   "cell_type": "code",
   "execution_count": 11,
   "id": "53e98936",
   "metadata": {},
   "outputs": [
    {
     "name": "stdout",
     "output_type": "stream",
     "text": [
      "[0.6666666666666666, 0.4444444444444444, 0.6111111111111112, 0.5, 0.5555555555555556, 0.5, 0.5, 0.5, 0.5, 0.5]\n"
     ]
    }
   ],
   "source": [
    "\n",
    "from scipy.spatial import distance\n",
    "num_neighbors = [1,2,3,4,5,6,7,8,9,10]\n",
    "acc_results = []\n",
    "for num in num_neighbors:\n",
    "    #Manhatten Distance \n",
    "    model = KNeighborsClassifier(n_neighbors=num, metric=distance.cityblock).fit(x_train_std, y_train)\n",
    "    acc_results.append(accuracy_score(y_test, model.predict(x_test_std)))\n",
    "print(acc_results)     "
   ]
  },
  {
   "cell_type": "markdown",
   "id": "014eb9c4",
   "metadata": {},
   "source": [
    "### K= 8 gives the best score with optimun value of K. "
   ]
  },
  {
   "cell_type": "code",
   "execution_count": 12,
   "id": "b1a5943d",
   "metadata": {},
   "outputs": [
    {
     "data": {
      "text/html": [
       "<div>\n",
       "<style scoped>\n",
       "    .dataframe tbody tr th:only-of-type {\n",
       "        vertical-align: middle;\n",
       "    }\n",
       "\n",
       "    .dataframe tbody tr th {\n",
       "        vertical-align: top;\n",
       "    }\n",
       "\n",
       "    .dataframe thead th {\n",
       "        text-align: right;\n",
       "    }\n",
       "</style>\n",
       "<table border=\"1\" class=\"dataframe\">\n",
       "  <thead>\n",
       "    <tr style=\"text-align: right;\">\n",
       "      <th></th>\n",
       "      <th>actual</th>\n",
       "      <th>manhattan</th>\n",
       "      <th>euclid</th>\n",
       "    </tr>\n",
       "  </thead>\n",
       "  <tbody>\n",
       "    <tr>\n",
       "      <th>68</th>\n",
       "      <td>1</td>\n",
       "      <td>1</td>\n",
       "      <td>1</td>\n",
       "    </tr>\n",
       "    <tr>\n",
       "      <th>69</th>\n",
       "      <td>1</td>\n",
       "      <td>1</td>\n",
       "      <td>1</td>\n",
       "    </tr>\n",
       "    <tr>\n",
       "      <th>70</th>\n",
       "      <td>1</td>\n",
       "      <td>1</td>\n",
       "      <td>1</td>\n",
       "    </tr>\n",
       "    <tr>\n",
       "      <th>144</th>\n",
       "      <td>2</td>\n",
       "      <td>2</td>\n",
       "      <td>2</td>\n",
       "    </tr>\n",
       "    <tr>\n",
       "      <th>145</th>\n",
       "      <td>2</td>\n",
       "      <td>1</td>\n",
       "      <td>1</td>\n",
       "    </tr>\n",
       "  </tbody>\n",
       "</table>\n",
       "</div>"
      ],
      "text/plain": [
       "     actual  manhattan  euclid\n",
       "68        1          1       1\n",
       "69        1          1       1\n",
       "70        1          1       1\n",
       "144       2          2       2\n",
       "145       2          1       1"
      ]
     },
     "execution_count": 12,
     "metadata": {},
     "output_type": "execute_result"
    }
   ],
   "source": [
    "\n",
    "euclid_model = KNeighborsClassifier(n_neighbors=8, metric=distance.sqeuclidean).fit(x_train_std, y_train) # Square Euclidean distance model\n",
    "manhattan_model = KNeighborsClassifier(n_neighbors=1, metric=distance.cityblock).fit(x_train_std, y_train) #Manhattan distance model\n",
    "\n",
    "manhattan_predictions = manhattan_model.predict(x_test_std)\n",
    "euclid_predictions = euclid_model.predict(x_test_std) \n",
    "df = pd.DataFrame({'actual': y_test, 'manhattan': manhattan_predictions, 'euclid': euclid_predictions})\n",
    "df.head()"
   ]
  },
  {
   "cell_type": "code",
   "execution_count": null,
   "id": "b444beb1",
   "metadata": {},
   "outputs": [],
   "source": []
  }
 ],
 "metadata": {
  "kernelspec": {
   "display_name": "Python 3 (ipykernel)",
   "language": "python",
   "name": "python3"
  },
  "language_info": {
   "codemirror_mode": {
    "name": "ipython",
    "version": 3
   },
   "file_extension": ".py",
   "mimetype": "text/x-python",
   "name": "python",
   "nbconvert_exporter": "python",
   "pygments_lexer": "ipython3",
   "version": "3.10.5"
  }
 },
 "nbformat": 4,
 "nbformat_minor": 5
}

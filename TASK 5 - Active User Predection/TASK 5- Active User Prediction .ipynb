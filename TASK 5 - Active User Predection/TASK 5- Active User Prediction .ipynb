{
 "cells": [
  {
   "cell_type": "code",
   "execution_count": 1,
   "id": "6907d4dc",
   "metadata": {},
   "outputs": [],
   "source": [
    "#Importing Necessary Libraries\n",
    "import pandas as pd \n",
    "import numpy as np\n",
    "import seaborn as sns\n",
    "import matplotlib.pyplot as plt    \n",
    "     "
   ]
  },
  {
   "cell_type": "markdown",
   "id": "26c930c8",
   "metadata": {},
   "source": [
    "Data Given \n",
    "1) takehome_users.csv : This file contains the details of the user who have registered to the particular service. \n",
    "2) takehome_user_engagement.csv : This file contains the time stamp of all users who have logged in.\n",
    "\n",
    "Problem Statement\n",
    "1) To filter and find the Adapted user as per the Definition given and take is as the target variable for the model.\n",
    "2) Do model building and find the features contributing to higher Adaption rate.\n"
   ]
  },
  {
   "cell_type": "code",
   "execution_count": 2,
   "id": "fa261463",
   "metadata": {},
   "outputs": [],
   "source": [
    "# Reading User Engagement and finding the list of adaptive users \n",
    "df= pd.read_csv(\"takehome_user_engagement.csv\")"
   ]
  },
  {
   "cell_type": "code",
   "execution_count": 3,
   "id": "2860a19f",
   "metadata": {},
   "outputs": [
    {
     "data": {
      "text/html": [
       "<div>\n",
       "<style scoped>\n",
       "    .dataframe tbody tr th:only-of-type {\n",
       "        vertical-align: middle;\n",
       "    }\n",
       "\n",
       "    .dataframe tbody tr th {\n",
       "        vertical-align: top;\n",
       "    }\n",
       "\n",
       "    .dataframe thead th {\n",
       "        text-align: right;\n",
       "    }\n",
       "</style>\n",
       "<table border=\"1\" class=\"dataframe\">\n",
       "  <thead>\n",
       "    <tr style=\"text-align: right;\">\n",
       "      <th></th>\n",
       "      <th>time_stamp</th>\n",
       "      <th>user_id</th>\n",
       "      <th>visited</th>\n",
       "    </tr>\n",
       "  </thead>\n",
       "  <tbody>\n",
       "    <tr>\n",
       "      <th>0</th>\n",
       "      <td>2014-04-22 03:53:30</td>\n",
       "      <td>1</td>\n",
       "      <td>1</td>\n",
       "    </tr>\n",
       "    <tr>\n",
       "      <th>1</th>\n",
       "      <td>2013-11-15 03:45:04</td>\n",
       "      <td>2</td>\n",
       "      <td>1</td>\n",
       "    </tr>\n",
       "    <tr>\n",
       "      <th>2</th>\n",
       "      <td>2013-11-29 03:45:04</td>\n",
       "      <td>2</td>\n",
       "      <td>1</td>\n",
       "    </tr>\n",
       "    <tr>\n",
       "      <th>3</th>\n",
       "      <td>2013-12-09 03:45:04</td>\n",
       "      <td>2</td>\n",
       "      <td>1</td>\n",
       "    </tr>\n",
       "    <tr>\n",
       "      <th>4</th>\n",
       "      <td>2013-12-25 03:45:04</td>\n",
       "      <td>2</td>\n",
       "      <td>1</td>\n",
       "    </tr>\n",
       "    <tr>\n",
       "      <th>5</th>\n",
       "      <td>2013-12-31 03:45:04</td>\n",
       "      <td>2</td>\n",
       "      <td>1</td>\n",
       "    </tr>\n",
       "    <tr>\n",
       "      <th>6</th>\n",
       "      <td>2014-01-08 03:45:04</td>\n",
       "      <td>2</td>\n",
       "      <td>1</td>\n",
       "    </tr>\n",
       "    <tr>\n",
       "      <th>7</th>\n",
       "      <td>2014-02-03 03:45:04</td>\n",
       "      <td>2</td>\n",
       "      <td>1</td>\n",
       "    </tr>\n",
       "    <tr>\n",
       "      <th>8</th>\n",
       "      <td>2014-02-08 03:45:04</td>\n",
       "      <td>2</td>\n",
       "      <td>1</td>\n",
       "    </tr>\n",
       "    <tr>\n",
       "      <th>9</th>\n",
       "      <td>2014-02-09 03:45:04</td>\n",
       "      <td>2</td>\n",
       "      <td>1</td>\n",
       "    </tr>\n",
       "  </tbody>\n",
       "</table>\n",
       "</div>"
      ],
      "text/plain": [
       "            time_stamp  user_id  visited\n",
       "0  2014-04-22 03:53:30        1        1\n",
       "1  2013-11-15 03:45:04        2        1\n",
       "2  2013-11-29 03:45:04        2        1\n",
       "3  2013-12-09 03:45:04        2        1\n",
       "4  2013-12-25 03:45:04        2        1\n",
       "5  2013-12-31 03:45:04        2        1\n",
       "6  2014-01-08 03:45:04        2        1\n",
       "7  2014-02-03 03:45:04        2        1\n",
       "8  2014-02-08 03:45:04        2        1\n",
       "9  2014-02-09 03:45:04        2        1"
      ]
     },
     "execution_count": 3,
     "metadata": {},
     "output_type": "execute_result"
    }
   ],
   "source": [
    "#Going through the data\n",
    "df.head(10)\n"
   ]
  },
  {
   "cell_type": "code",
   "execution_count": 10,
   "id": "b2903b68",
   "metadata": {},
   "outputs": [
    {
     "name": "stdout",
     "output_type": "stream",
     "text": [
      "             user_id   visited\n",
      "count  207917.000000  207917.0\n",
      "mean     5913.314197       1.0\n",
      "std      3394.941674       0.0\n",
      "min         1.000000       1.0\n",
      "25%      3087.000000       1.0\n",
      "50%      5682.000000       1.0\n",
      "75%      8944.000000       1.0\n",
      "max     12000.000000       1.0\n",
      "<class 'pandas.core.frame.DataFrame'>\n",
      "RangeIndex: 207917 entries, 0 to 207916\n",
      "Data columns (total 3 columns):\n",
      " #   Column      Non-Null Count   Dtype \n",
      "---  ------      --------------   ----- \n",
      " 0   time_stamp  207917 non-null  object\n",
      " 1   user_id     207917 non-null  int64 \n",
      " 2   visited     207917 non-null  int64 \n",
      "dtypes: int64(2), object(1)\n",
      "memory usage: 4.8+ MB\n",
      "None\n",
      "time_stamp    0\n",
      "user_id       0\n",
      "visited       0\n",
      "dtype: int64\n",
      "[1]\n",
      "3623     606\n",
      "906      600\n",
      "1811     593\n",
      "7590     590\n",
      "8068     585\n",
      "        ... \n",
      "4699       1\n",
      "4698       1\n",
      "4697       1\n",
      "4696       1\n",
      "12000      1\n",
      "Name: user_id, Length: 8823, dtype: int64\n"
     ]
    }
   ],
   "source": [
    "#check for type of values \n",
    "print(df.describe())\n",
    "print(df.info())\n",
    "print(df.isnull().sum())\n",
    "print(df[\"visited\"].unique())\n",
    "print(df[\"user_id\"].value_counts())"
   ]
  },
  {
   "cell_type": "code",
   "execution_count": null,
   "id": "e6bee673",
   "metadata": {},
   "outputs": [],
   "source": [
    "#changeing the Datatype and removing the Visited Column \n",
    "df['time_stamp']=pd.to_datetime(df['time_stamp'])\n",
    "df['dates'] = df['time_stamp'].dt.date\n",
    "df.drop([\"time_stamp\",\"visited\"],axis=1, inplace=True)"
   ]
  },
  {
   "cell_type": "code",
   "execution_count": 30,
   "id": "43fccf3b",
   "metadata": {},
   "outputs": [
    {
     "name": "stdout",
     "output_type": "stream",
     "text": [
      "1557\n"
     ]
    }
   ],
   "source": [
    "#function to check for Adaptive users\n",
    "def ada_user(df):\n",
    "    list1=sorted(set(df[\"dates\"].tolist()))\n",
    "    for i in range(0,len(list1)-2):\n",
    "        x=(list1[i+2]-list1[i]).days\n",
    "        if 3<x<7 :\n",
    "             return True\n",
    "    return False\n",
    "\n",
    "#Looping over all unique user ids\n",
    "adaptive_user=[]\n",
    "a=df[\"user_id\"].unique()\n",
    "for i in a:  \n",
    "    date_df=df[df[\"user_id\"] == i]\n",
    "    if ada_user(date_df):\n",
    "        adaptive_user.append(i)\n",
    "print(len(adaptive_user))\n"
   ]
  },
  {
   "cell_type": "code",
   "execution_count": 31,
   "id": "4971d03b",
   "metadata": {},
   "outputs": [],
   "source": [
    "#Reading the User Details File \n",
    "df2= pd.read_csv(\"takehome_users.csv\", encoding='latin-1')"
   ]
  },
  {
   "cell_type": "code",
   "execution_count": 33,
   "id": "af458fa7",
   "metadata": {},
   "outputs": [
    {
     "name": "stdout",
     "output_type": "stream",
     "text": [
      "         object_id  last_session_creation_time  opted_in_to_mailing_list  \\\n",
      "count  12000.00000                8.823000e+03              12000.000000   \n",
      "mean    6000.50000                1.379279e+09                  0.249500   \n",
      "std     3464.24595                1.953116e+07                  0.432742   \n",
      "min        1.00000                1.338452e+09                  0.000000   \n",
      "25%     3000.75000                1.363195e+09                  0.000000   \n",
      "50%     6000.50000                1.382888e+09                  0.000000   \n",
      "75%     9000.25000                1.398443e+09                  0.000000   \n",
      "max    12000.00000                1.402067e+09                  1.000000   \n",
      "\n",
      "       enabled_for_marketing_drip        org_id  invited_by_user_id  \n",
      "count                12000.000000  12000.000000         6417.000000  \n",
      "mean                     0.149333    141.884583         5962.957145  \n",
      "std                      0.356432    124.056723         3383.761968  \n",
      "min                      0.000000      0.000000            3.000000  \n",
      "25%                      0.000000     29.000000         3058.000000  \n",
      "50%                      0.000000    108.000000         5954.000000  \n",
      "75%                      0.000000    238.250000         8817.000000  \n",
      "max                      1.000000    416.000000        11999.000000  \n",
      "<class 'pandas.core.frame.DataFrame'>\n",
      "RangeIndex: 12000 entries, 0 to 11999\n",
      "Data columns (total 10 columns):\n",
      " #   Column                      Non-Null Count  Dtype  \n",
      "---  ------                      --------------  -----  \n",
      " 0   object_id                   12000 non-null  int64  \n",
      " 1   creation_time               12000 non-null  object \n",
      " 2   name                        12000 non-null  object \n",
      " 3   email                       12000 non-null  object \n",
      " 4   creation_source             12000 non-null  object \n",
      " 5   last_session_creation_time  8823 non-null   float64\n",
      " 6   opted_in_to_mailing_list    12000 non-null  int64  \n",
      " 7   enabled_for_marketing_drip  12000 non-null  int64  \n",
      " 8   org_id                      12000 non-null  int64  \n",
      " 9   invited_by_user_id          6417 non-null   float64\n",
      "dtypes: float64(2), int64(4), object(4)\n",
      "memory usage: 937.6+ KB\n",
      "None\n",
      "object_id                        0\n",
      "creation_time                    0\n",
      "name                             0\n",
      "email                            0\n",
      "creation_source                  0\n",
      "last_session_creation_time    3177\n",
      "opted_in_to_mailing_list         0\n",
      "enabled_for_marketing_drip       0\n",
      "org_id                           0\n",
      "invited_by_user_id            5583\n",
      "dtype: int64\n"
     ]
    }
   ],
   "source": [
    "#Reading its data \n",
    "print(df2.describe())\n",
    "print(df2.info())\n",
    "print(df2.isnull().sum())\n"
   ]
  },
  {
   "cell_type": "code",
   "execution_count": 44,
   "id": "a34628ee",
   "metadata": {},
   "outputs": [],
   "source": [
    "#Dropping the Name, creation time, email as it is not needed\n",
    "df2.drop([\"creation_time\",\"name\",\"email\" ], axis=1, inplace=True)\n",
    "#Dropping cloumns with very high null value as if cannout be filled \n",
    "df2.drop([\"last_session_creation_time\",\"invited_by_user_id\"], axis=1, inplace=True)\n",
    "#adding target variable \n",
    "df2['Target']=df2['object_id'].apply(lambda x:1 if x in adaptive_user else 0)"
   ]
  },
  {
   "cell_type": "code",
   "execution_count": 45,
   "id": "00ea3a71",
   "metadata": {},
   "outputs": [
    {
     "name": "stdout",
     "output_type": "stream",
     "text": [
      "<class 'pandas.core.frame.DataFrame'>\n",
      "RangeIndex: 12000 entries, 0 to 11999\n",
      "Data columns (total 10 columns):\n",
      " #   Column                      Non-Null Count  Dtype\n",
      "---  ------                      --------------  -----\n",
      " 0   object_id                   12000 non-null  int64\n",
      " 1   opted_in_to_mailing_list    12000 non-null  int64\n",
      " 2   enabled_for_marketing_drip  12000 non-null  int64\n",
      " 3   org_id                      12000 non-null  int64\n",
      " 4   CSR_GUEST_INVITE            12000 non-null  uint8\n",
      " 5   CSR_ORG_INVITE              12000 non-null  uint8\n",
      " 6   CSR_PERSONAL_PROJECTS       12000 non-null  uint8\n",
      " 7   CSR_SIGNUP                  12000 non-null  uint8\n",
      " 8   CSR_SIGNUP_GOOGLE_AUTH      12000 non-null  uint8\n",
      " 9   Target                      12000 non-null  int64\n",
      "dtypes: int64(5), uint8(5)\n",
      "memory usage: 527.5 KB\n"
     ]
    }
   ],
   "source": [
    "#Doing one hot encodeing for the creation sourse column as it as 5 categorical values \n",
    "df2 = pd.get_dummies(df2, columns=[\"creation_source\"], prefix=[\"CSR\"])\n",
    "df2.info()"
   ]
  },
  {
   "cell_type": "markdown",
   "id": "b2518807",
   "metadata": {},
   "source": [
    "### EDA\n"
   ]
  },
  {
   "cell_type": "code",
   "execution_count": 62,
   "id": "38b27de4",
   "metadata": {},
   "outputs": [
    {
     "name": "stdout",
     "output_type": "stream",
     "text": [
      "1        1\n",
      "8004     1\n",
      "7995     1\n",
      "7996     1\n",
      "7997     1\n",
      "        ..\n",
      "4003     1\n",
      "4004     1\n",
      "4005     1\n",
      "4006     1\n",
      "12000    1\n",
      "Name: object_id, Length: 12000, dtype: int64\n",
      "0    9006\n",
      "1    2994\n",
      "Name: opted_in_to_mailing_list, dtype: int64\n",
      "0    10208\n",
      "1     1792\n",
      "Name: enabled_for_marketing_drip, dtype: int64\n",
      "0      319\n",
      "1      233\n",
      "2      201\n",
      "3      168\n",
      "4      159\n",
      "      ... \n",
      "396      9\n",
      "397      8\n",
      "400      8\n",
      "386      7\n",
      "416      2\n",
      "Name: org_id, Length: 417, dtype: int64\n",
      "0    9837\n",
      "1    2163\n",
      "Name: CSR_GUEST_INVITE, dtype: int64\n",
      "0    7746\n",
      "1    4254\n",
      "Name: CSR_ORG_INVITE, dtype: int64\n",
      "0    9889\n",
      "1    2111\n",
      "Name: CSR_PERSONAL_PROJECTS, dtype: int64\n",
      "0    9913\n",
      "1    2087\n",
      "Name: CSR_SIGNUP, dtype: int64\n",
      "0    10615\n",
      "1     1385\n",
      "Name: CSR_SIGNUP_GOOGLE_AUTH, dtype: int64\n",
      "0    10443\n",
      "1     1557\n",
      "Name: Target, dtype: int64\n"
     ]
    }
   ],
   "source": [
    "for i in df2.columns:\n",
    "    print(df2[i].value_counts())"
   ]
  },
  {
   "cell_type": "code",
   "execution_count": 63,
   "id": "36ed309b",
   "metadata": {},
   "outputs": [
    {
     "data": {
      "image/png": "[encoded data removed]",
      "text/plain": [
       "<Figure size 432x288 with 1 Axes>"
      ]
     },
     "metadata": {
      "needs_background": "light"
     },
     "output_type": "display_data"
    }
   ],
   "source": [
    "x = pd.DataFrame(df2.groupby('org_id')['Target'].sum())\n",
    "x.sort_values(by = 'Target', inplace=True)\n",
    "x.plot(kind='bar')\n",
    "plt.show()"
   ]
  },
  {
   "cell_type": "code",
   "execution_count": 66,
   "id": "13d3a3c9",
   "metadata": {},
   "outputs": [
    {
     "data": {
      "image/png": "[encoded data removed]",
      "text/plain": [
       "<Figure size 432x288 with 1 Axes>"
      ]
     },
     "metadata": {
      "needs_background": "light"
     },
     "output_type": "display_data"
    },
    {
     "data": {
      "image/png": "[encoded data removed]",
      "text/plain": [
       "<Figure size 432x288 with 1 Axes>"
      ]
     },
     "metadata": {
      "needs_background": "light"
     },
     "output_type": "display_data"
    },
    {
     "data": {
      "image/png": "[encoded data removed]",
      "text/plain": [
       "<Figure size 432x288 with 1 Axes>"
      ]
     },
     "metadata": {
      "needs_background": "light"
     },
     "output_type": "display_data"
    },
    {
     "data": {
      "image/png": "[encoded data removed]",
      "text/plain": [
       "<Figure size 432x288 with 1 Axes>"
      ]
     },
     "metadata": {
      "needs_background": "light"
     },
     "output_type": "display_data"
    },
    {
     "data": {
      "image/png": "[encoded data removed]",
      "text/plain": [
       "<Figure size 432x288 with 1 Axes>"
      ]
     },
     "metadata": {
      "needs_background": "light"
     },
     "output_type": "display_data"
    }
   ],
   "source": [
    "for i in ['CSR_GUEST_INVITE', 'CSR_ORG_INVITE', 'CSR_PERSONAL_PROJECTS','CSR_SIGNUP', 'CSR_SIGNUP_GOOGLE_AUTH']:\n",
    "    x = pd.DataFrame(df2.groupby(i)['Target'].sum())\n",
    "    x.sort_values(by = 'Target', inplace=True)\n",
    "    x.plot(kind='bar')\n",
    "    plt.show()"
   ]
  },
  {
   "cell_type": "markdown",
   "id": "c692a69f",
   "metadata": {},
   "source": [
    "## Model Building \n"
   ]
  },
  {
   "cell_type": "code",
   "execution_count": 51,
   "id": "231759db",
   "metadata": {},
   "outputs": [],
   "source": [
    "#List of columns to use for model builing\n",
    "List= ['opted_in_to_mailing_list', 'enabled_for_marketing_drip',\n",
    "       'org_id', 'CSR_GUEST_INVITE', 'CSR_ORG_INVITE', 'CSR_PERSONAL_PROJECTS',\n",
    "       'CSR_SIGNUP', 'CSR_SIGNUP_GOOGLE_AUTH']"
   ]
  },
  {
   "cell_type": "code",
   "execution_count": 56,
   "id": "e4e942fc",
   "metadata": {},
   "outputs": [
    {
     "name": "stdout",
     "output_type": "stream",
     "text": [
      "0.8361111111111111\n",
      "[0.08966461 0.07409961 0.73280432 0.0311905  0.01522965 0.01072751\n",
      " 0.01787025 0.02841355]\n"
     ]
    },
    {
     "name": "stderr",
     "output_type": "stream",
     "text": [
      "C:\\Users\\HOME\\Documents\\VS CODE PYTHON\\STMLINE\\lib\\site-packages\\sklearn\\utils\\deprecation.py:87: FutureWarning: Function plot_confusion_matrix is deprecated; Function `plot_confusion_matrix` is deprecated in 1.0 and will be removed in 1.2. Use one of the class methods: ConfusionMatrixDisplay.from_predictions or ConfusionMatrixDisplay.from_estimator.\n",
      "  warnings.warn(msg, category=FutureWarning)\n"
     ]
    },
    {
     "data": {
      "image/png": "[encoded data removed]",
      "text/plain": [
       "<Figure size 432x288 with 1 Axes>"
      ]
     },
     "metadata": {
      "needs_background": "light"
     },
     "output_type": "display_data"
    },
    {
     "data": {
      "image/png": "[encoded data removed]",
      "text/plain": [
       "<Figure size 432x288 with 2 Axes>"
      ]
     },
     "metadata": {
      "needs_background": "light"
     },
     "output_type": "display_data"
    }
   ],
   "source": [
    "#Decision Tree Classifier\n",
    "\n",
    "from sklearn.model_selection import train_test_split\n",
    "from sklearn.tree import DecisionTreeClassifier\n",
    "from sklearn.metrics import accuracy_score,plot_confusion_matrix\n",
    "X = df2.iloc[:,[1,2,3,4,5,6,7,8]] #All cols except adopted_user,user_id and creation_time\n",
    "Y =df2.iloc[:,[9]] \n",
    "x_train, x_test, y_train, y_test = train_test_split(X,Y,test_size=0.3,random_state=2,stratify=Y)\n",
    "model = DecisionTreeClassifier()\n",
    "model.fit(x_train,y_train)\n",
    "pred = model.predict(x_test)\n",
    "accuracy = accuracy_score(y_test, pred)\n",
    "print(accuracy)\n",
    "print(model.feature_importances_)\n",
    "plt.barh(range(len(model.feature_importances_)), model.feature_importances_, tick_label=List)\n",
    "plot_confusion_matrix(model,x_test,y_test)\n",
    "plt.show()"
   ]
  },
  {
   "cell_type": "code",
   "execution_count": 58,
   "id": "6696f9bd",
   "metadata": {},
   "outputs": [
    {
     "name": "stdout",
     "output_type": "stream",
     "text": [
      "0.8325\n",
      "[0.00945041 0.00942636 0.96156579 0.00403639 0.00281853 0.00733819\n",
      " 0.00236959 0.00299474]\n"
     ]
    },
    {
     "name": "stderr",
     "output_type": "stream",
     "text": [
      "C:\\Users\\HOME\\Documents\\VS CODE PYTHON\\STMLINE\\lib\\site-packages\\sklearn\\utils\\deprecation.py:87: FutureWarning: Function plot_confusion_matrix is deprecated; Function `plot_confusion_matrix` is deprecated in 1.0 and will be removed in 1.2. Use one of the class methods: ConfusionMatrixDisplay.from_predictions or ConfusionMatrixDisplay.from_estimator.\n",
      "  warnings.warn(msg, category=FutureWarning)\n"
     ]
    },
    {
     "data": {
      "image/png": "[encoded data removed]",
      "text/plain": [
       "<Figure size 432x288 with 1 Axes>"
      ]
     },
     "metadata": {
      "needs_background": "light"
     },
     "output_type": "display_data"
    },
    {
     "data": {
      "image/png": "[encoded data removed]",
      "text/plain": [
       "<Figure size 432x288 with 2 Axes>"
      ]
     },
     "metadata": {
      "needs_background": "light"
     },
     "output_type": "display_data"
    }
   ],
   "source": [
    "#Random Forest Classifier\n",
    "\n",
    "from sklearn.model_selection import train_test_split\n",
    "from sklearn.ensemble import RandomForestClassifier\n",
    "from sklearn.metrics import accuracy_score,plot_confusion_matrix\n",
    "X = df2.iloc[:,[1,2,3,4,5,6,7,8]] #All cols except adopted_user,user_id and creation_time\n",
    "Y =df2.iloc[:,9] \n",
    "x_train, x_test, y_train, y_test = train_test_split(X,Y,test_size=0.3,random_state=2,stratify=Y)\n",
    "model = RandomForestClassifier()\n",
    "model.fit(x_train,y_train)\n",
    "pred = model.predict(x_test)\n",
    "accuracy = accuracy_score(y_test, pred)\n",
    "print(accuracy)\n",
    "print(model.feature_importances_)\n",
    "plt.barh(range(len(model.feature_importances_)), model.feature_importances_, tick_label=List)\n",
    "plot_confusion_matrix(model,x_test,y_test)\n",
    "plt.show()"
   ]
  },
  {
   "cell_type": "markdown",
   "id": "87d8d6ac",
   "metadata": {},
   "source": [
    "## Conclusions "
   ]
  },
  {
   "cell_type": "markdown",
   "id": "40f40eb2",
   "metadata": {},
   "source": [
    "1) The given data is 12000 unique users registered, upon analysis, we found #1557 adapted users. This makes the given dataset imbalanced. \n",
    "\n",
    "2) Upon doing feature analyses by building two models, a Decision Tree and Random Forest, the feature importance is found in this order. \n",
    "1) Organisation Id\n",
    "2) Enabled for marketing drip\n",
    "3) opted in for the Mailing list \n",
    "4) People created an account for Personal Project \n",
    "\n",
    "3) From the analysis it is observed that the rate of Adaptive users is highly dependent on the Organisation id. People from certain organisation id highly use this platform.\n"
   ]
  },
  {
   "cell_type": "code",
   "execution_count": null,
   "id": "66cc8002",
   "metadata": {},
   "outputs": [],
   "source": []
  }
 ],
 "metadata": {
  "kernelspec": {
   "display_name": "Python 3 (ipykernel)",
   "language": "python",
   "name": "python3"
  },
  "language_info": {
   "codemirror_mode": {
    "name": "ipython",
    "version": 3
   },
   "file_extension": ".py",
   "mimetype": "text/x-python",
   "name": "python",
   "nbconvert_exporter": "python",
   "pygments_lexer": "ipython3",
   "version": "3.10.5"
  }
 },
 "nbformat": 4,
 "nbformat_minor": 5
}
